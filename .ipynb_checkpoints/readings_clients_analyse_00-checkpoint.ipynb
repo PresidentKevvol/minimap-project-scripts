{
 "cells": [
  {
   "cell_type": "markdown",
   "id": "ad7bf440-d8cd-4cc3-a4fb-a86566075223",
   "metadata": {},
   "source": [
    "## Analysing client fingerprint data\n",
    "Fingerprint data collected in 40 locations in 3rd floor of Lassonde building"
   ]
  },
  {
   "cell_type": "markdown",
   "id": "87cf3f18-8413-41bd-8c48-06c42341cf3b",
   "metadata": {
    "tags": []
   },
   "source": [
    "### initial setup"
   ]
  },
  {
   "cell_type": "markdown",
   "id": "292aa283-a394-48a8-bfac-d2a9edbc6d7a",
   "metadata": {
    "tags": []
   },
   "source": [
    "#### read files"
   ]
  },
  {
   "cell_type": "code",
   "execution_count": 2,
   "id": "c3767db5-cfdf-4b32-ba81-79f319277c89",
   "metadata": {},
   "outputs": [],
   "source": [
    "import pandas as pd\n",
    "import numpy as np\n",
    "import json\n",
    "\n",
    "import os"
   ]
  },
  {
   "cell_type": "code",
   "execution_count": 3,
   "id": "e286d88d-e0d7-4d7b-8f05-64f9723f9400",
   "metadata": {},
   "outputs": [],
   "source": [
    "data_source_prefix = ['../fingerprint_data/fp_data/fpdata/fpdata_', '../fingerprint_data/fp_data/fpdata_2/fpdata_']\n",
    "points_names = ['r2[{}]'.format(i) for i in range(1, 41)]"
   ]
  },
  {
   "cell_type": "code",
   "execution_count": null,
   "id": "238ddff1-9fd6-4c8f-944b-08a567bea8d9",
   "metadata": {},
   "outputs": [],
   "source": []
  },
  {
   "cell_type": "code",
   "execution_count": 4,
   "id": "b0d8d2b8-1a79-4266-b48a-505b2f876f93",
   "metadata": {},
   "outputs": [],
   "source": [
    "dataset_map = {}\n",
    "\n",
    "for n in points_names:\n",
    "    # open each file and load the json\n",
    "    fs = [open(prefix + n + '.json', 'r') for prefix in data_source_prefix]\n",
    "    js = [json.loads(fi.read()) for fi in fs]\n",
    "    [fi.close() for fi in fs]\n",
    "    \n",
    "    # merge the lists\n",
    "    res = []\n",
    "    for j in js:\n",
    "        res += j\n",
    "        \n",
    "    dataset_map[n] = res"
   ]
  },
  {
   "cell_type": "code",
   "execution_count": 5,
   "id": "e3a0b301-524b-412d-9011-053e3cc771ba",
   "metadata": {},
   "outputs": [
    {
     "data": {
      "text/plain": [
       "200"
      ]
     },
     "execution_count": 5,
     "metadata": {},
     "output_type": "execute_result"
    }
   ],
   "source": [
    "len(dataset_map['r2[13]'])"
   ]
  },
  {
   "cell_type": "code",
   "execution_count": 6,
   "id": "7b3cdd38-4fbd-4085-b32e-c77898b34c25",
   "metadata": {},
   "outputs": [
    {
     "data": {
      "text/plain": [
       "{'SSID': 'eduroam', 'BSSID': '1006ed7228cd', 'RSSI': -81.0}"
      ]
     },
     "execution_count": 6,
     "metadata": {},
     "output_type": "execute_result"
    }
   ],
   "source": [
    "dataset_map['r2[13]'][5][9]"
   ]
  },
  {
   "cell_type": "markdown",
   "id": "06303dd8-c32c-47db-a898-854c455b2c7b",
   "metadata": {
    "tags": []
   },
   "source": [
    "#### select out relevant wifi point sources and discard unneeded ones"
   ]
  },
  {
   "cell_type": "code",
   "execution_count": 22,
   "id": "e51a3848-ad86-454b-b9e9-196fd2e7e702",
   "metadata": {},
   "outputs": [],
   "source": [
    "all_sources = {}\n",
    "multimapped_bssid = 0\n",
    "multimapped_bssid_list = []\n",
    "\n",
    "# iterate each point of each record to get all access points sources\n",
    "for pt_key in dataset_map:\n",
    "    datapts = dataset_map[pt_key]\n",
    "    \n",
    "    for p in datapts:\n",
    "        for ap in p:\n",
    "            bssid = ap['BSSID']\n",
    "            ssid = ap['SSID']\n",
    "            \n",
    "            # the sources are identified by their bssid\n",
    "            if bssid not in all_sources:\n",
    "                # add to map if not yet\n",
    "                all_sources[bssid] = [ssid, 1]\n",
    "            else:\n",
    "                # increment count every encounter\n",
    "                if ssid == all_sources[bssid][0]:\n",
    "                    all_sources[bssid][1] += 1\n",
    "                else:\n",
    "                    multimapped_bssid += 1\n",
    "                    multimapped_bssid_list.append((bssid, all_sources[bssid], ssid))"
   ]
  },
  {
   "cell_type": "code",
   "execution_count": 23,
   "id": "fb3028fc-a6f5-4563-b52d-3c5dcb20b618",
   "metadata": {
    "collapsed": true,
    "jupyter": {
     "outputs_hidden": true,
     "source_hidden": true
    },
    "tags": []
   },
   "outputs": [
    {
     "data": {
      "text/plain": [
       "{'28cdc104be6f': ['SBU-12', 5741],\n",
       " '2c6fc92fecaf': ['DIRECT-AF-HP M506 LaserJet', 930],\n",
       " '1006ed580d2f': ['AirYorkPLUS', 3636],\n",
       " '1006ed71c860': ['AirYorkPLUS', 473],\n",
       " '1006ed716260': ['AirYorkPLUS', 1972],\n",
       " '1006ed71f1e0': ['AirYorkPLUS', 2936],\n",
       " '1006ed580d20': ['AirYorkPLUS', 3386],\n",
       " '28cdc104be74': ['SBU-08', 4173],\n",
       " '28cdc104be75': ['SBU-07', 5837],\n",
       " '1006ed713b41': ['AirYorkGUEST', 1070],\n",
       " '1006ed71c861': ['AirYorkGUEST', 823],\n",
       " '1006ed580d21': ['AirYorkGUEST', 1130],\n",
       " '98fc114f4c72': ['aeropuerto', 6303],\n",
       " 'd8ec5e493748': ['north', 5506],\n",
       " 'd8ec5e49374a': ['north', 4790],\n",
       " '28cdc104be6d': ['SBU-13', 5318],\n",
       " '1006ed713b42': ['eduroam', 1245],\n",
       " '1006ed71f1e2': ['eduroam', 2857],\n",
       " '1006ed71c862': ['eduroam', 720],\n",
       " '1006ed580d22': ['eduroam', 1249],\n",
       " '1006ed713b43': ['WiFi-Info', 1245],\n",
       " '1006ed71c863': ['WiFi-Info', 473],\n",
       " '1006ed580d23': ['WiFi-Info', 1317],\n",
       " '001cdf229c99': ['protein', 5422],\n",
       " '28cdc104be7d': ['SBU-01', 6463],\n",
       " '54b80a10be5e': ['iNCML', 2193],\n",
       " '28cdc104be77': ['SBU-06', 4638],\n",
       " 'd2c63764933f': ['DIRECT-UkSCOTT4msCK', 1857],\n",
       " 'da5de23e31ef': ['DIRECT-ef-HP M277 LaserJet', 3810],\n",
       " '28cdc104be78': ['SBU-05', 6299],\n",
       " '28cdc104be7a': ['SBU-04', 6476],\n",
       " '28cdc104be73': ['SBU-09', 4981],\n",
       " '28cdc104be0f': ['SBU-02', 6340],\n",
       " '1006ed716261': ['AirYorkGUEST', 1135],\n",
       " '1006ed716262': ['eduroam', 1135],\n",
       " '1006ed716263': ['WiFi-Info', 742],\n",
       " '28cdc104be7b': ['SBU-03', 5235],\n",
       " 'deec5e493748': [' ', 4306],\n",
       " '1027f589f4a8': ['Telelumen-1961', 760],\n",
       " '1006ed580d2d': ['eduroam', 2719],\n",
       " '1006ed580d2c': ['WiFi-Info', 2719],\n",
       " '1006ed580d2e': ['AirYorkGUEST', 2719],\n",
       " '1006ed42bfc0': ['AirYorkPLUS', 2400],\n",
       " '1006ed42bfc1': ['AirYorkGUEST', 1299],\n",
       " '1006ed42bfc2': ['eduroam', 1014],\n",
       " '1006ed42bfc3': ['WiFi-Info', 1702],\n",
       " '1860240af6a7': ['DIRECT-A5-HP OfficeJet Pro 8710', 2287],\n",
       " '1006ed7228c0': ['AirYorkPLUS', 2067],\n",
       " '1006ed7228cc': ['WiFi-Info', 2239],\n",
       " '1006ed71f1e3': ['WiFi-Info', 3202],\n",
       " '1006ed71626c': ['WiFi-Info', 1712],\n",
       " '1006ed724fe3': ['WiFi-Info', 379],\n",
       " '1006ed42bfcc': ['WiFi-Info', 2337],\n",
       " '1006ed42bfce': ['AirYorkGUEST', 2337],\n",
       " '1006ed724fe1': ['AirYorkGUEST', 479],\n",
       " '1006ed71626e': ['AirYorkGUEST', 1712],\n",
       " '1006ed71f1e1': ['AirYorkGUEST', 2951],\n",
       " '1006ed7228ce': ['AirYorkGUEST', 2424],\n",
       " '1006ed42bfcd': ['eduroam', 2337],\n",
       " '1006ed71626d': ['eduroam', 1547],\n",
       " '1006ed7228cd': ['eduroam', 2239],\n",
       " '1006ed724fe2': ['eduroam', 288],\n",
       " '1006ed71626f': ['AirYorkPLUS', 1712],\n",
       " '1006ed42bfcf': ['AirYorkPLUS', 2157],\n",
       " '1006ed7228cf': ['AirYorkPLUS', 2345],\n",
       " '1006ed724fe0': ['AirYorkPLUS', 391],\n",
       " '002586c28802': ['TPLINK', 1714],\n",
       " '7612b371aa29': ['DIRECT-29-HP M227f LaserJet', 600],\n",
       " '1006ed7228c2': ['eduroam', 1085],\n",
       " '1006ed7228c1': ['AirYorkGUEST', 1180],\n",
       " '1006ed7228c3': ['WiFi-Info', 1180],\n",
       " '0e37c96e1933': ['las3033-m1', 91],\n",
       " 'd62f191edef4': ['las3033-m1', 91],\n",
       " 'aa9604ec7f7d': ['las3033-m1', 87],\n",
       " '0492268269f8': ['2002', 3210],\n",
       " '1006ed713b40': ['AirYorkPLUS', 1017],\n",
       " 'ca767a2efc0d': ['las3033-m1', 456],\n",
       " '1006ed71f1ef': ['AirYorkPLUS', 2082],\n",
       " '1006ed7217e1': ['AirYorkGUEST', 204],\n",
       " 'd8ec5e493749': ['north', 888],\n",
       " '9483c40c2c7d': ['CVIL-micronet', 810],\n",
       " '1006ed09b120': ['AirYorkPLUS', 341],\n",
       " '1006ed09b121': ['AirYorkGUEST', 87],\n",
       " '1006ed09b123': ['WiFi-Info', 254],\n",
       " '6c72200da47a': ['huehuehue5g', 344],\n",
       " '1006ed71f1ee': ['AirYorkGUEST', 1053],\n",
       " '1006ed71f1ed': ['eduroam', 784],\n",
       " '1006ed71f1ec': ['WiFi-Info', 1053],\n",
       " '1006edbf0a62': ['eduroam', 92],\n",
       " '1006edbf0a60': ['AirYorkPLUS', 92],\n",
       " '1006edbf0a63': ['WiFi-Info', 92],\n",
       " '1006edbf0a61': ['AirYorkGUEST', 92],\n",
       " '1006ed09b122': ['eduroam', 67],\n",
       " '34b8835ee7c2': ['eduroam', 199],\n",
       " '1006ed7217e0': ['AirYorkPLUS', 199],\n",
       " '34b8835ee7c0': ['AirYorkPLUS', 199],\n",
       " '1006ed7217ef': ['AirYorkPLUS', 198],\n",
       " 'e44e2dc40883': ['WiFi-Info', 68],\n",
       " '34b8835ee7c3': ['WiFi-Info', 199],\n",
       " '1006ed714cc0': ['AirYorkPLUS', 1890],\n",
       " '1006ed714cc3': ['WiFi-Info', 1777],\n",
       " '1006ed713b4c': ['WiFi-Info', 1212],\n",
       " '1006ed713b4f': ['AirYorkPLUS', 1401],\n",
       " '1006ed713b4e': ['AirYorkGUEST', 1212],\n",
       " '1006ed713b4d': ['eduroam', 1477],\n",
       " '1006ed714cc1': ['AirYorkGUEST', 1559],\n",
       " '1006ed714cc2': ['eduroam', 1559],\n",
       " '0ea9e934ae10': ['las3033-m1', 310],\n",
       " '2eb7c47f25e6': ['las3033-m1', 329],\n",
       " '14cc2096ceaa': ['EckfordLab', 1444],\n",
       " '1006ed71134c': ['WiFi-Info', 442],\n",
       " '1006ed71134e': ['AirYorkGUEST', 442],\n",
       " '1006ed71134f': ['AirYorkPLUS', 442],\n",
       " '1006ed711340': ['AirYorkPLUS', 1597],\n",
       " '1006ed71134d': ['eduroam', 442],\n",
       " '6ed43042d508': ['las3033-m1', 79],\n",
       " '1006ed714ccc': ['WiFi-Info', 1466],\n",
       " '1006ed714cce': ['AirYorkGUEST', 1466],\n",
       " '1006ed714ccf': ['AirYorkPLUS', 1827],\n",
       " '1006ed714ccd': ['eduroam', 1466],\n",
       " '1006ed70df4c': ['WiFi-Info', 245],\n",
       " '1006ed711343': ['WiFi-Info', 1324],\n",
       " '1006ed70df4e': ['AirYorkGUEST', 245],\n",
       " '1006ed711341': ['AirYorkGUEST', 934],\n",
       " '1006ed70df4d': ['eduroam', 245],\n",
       " '1006ed711342': ['eduroam', 1047],\n",
       " '14cc2096ceac': ['EckfordLab-5GHz', 241],\n",
       " '1006ed70df4f': ['AirYorkPLUS', 601],\n",
       " '0492268269fc': ['2002', 594],\n",
       " '1006ed70df42': ['eduroam', 350],\n",
       " '1006ed70df43': ['WiFi-Info', 350],\n",
       " '1006ed70df40': ['AirYorkPLUS', 350],\n",
       " '1006ed70df41': ['AirYorkGUEST', 350],\n",
       " '1006edc0bb21': ['AirYorkGUEST', 467],\n",
       " '1006edc0bb22': ['eduroam', 467],\n",
       " '1006edc0bb23': ['WiFi-Info', 467],\n",
       " '1006edc0bb20': ['AirYorkPLUS', 251]}"
      ]
     },
     "execution_count": 23,
     "metadata": {},
     "output_type": "execute_result"
    }
   ],
   "source": [
    "all_sources"
   ]
  },
  {
   "cell_type": "code",
   "execution_count": 24,
   "id": "66c1d226-730f-4765-81a2-6c632dae5270",
   "metadata": {},
   "outputs": [],
   "source": [
    "active_beacons_numbers = list(range(10)) + [12, 13]\n",
    "active_beacons = ['SBU-{:02d}'.format(i) for i in active_beacons_numbers]\n",
    "use_ssids = ['AirYorkGUEST', 'AirYorkPLUS', 'eduroam', 'WiFi-Info', 'north', 'HP-Print-B5-ENVY 4500 series', 'DIRECT-ef-HP M277 LaserJet', 'TPLINK', 'aeropuerto', 'protein', 'DIRECT-AF-HP M506 LaserJet']\n",
    "combined_ssids = use_ssids + active_beacons\n",
    "\n",
    "existing_sources = {k:all_sources[k] for k in all_sources if all_sources[k][0] in use_ssids and all_sources[k][1] > 2000}\n",
    "limited_sources = {k:all_sources[k] for k in all_sources if all_sources[k][0] in use_ssids and all_sources[k][1] > 2500}\n",
    "beacon_sources = {k:all_sources[k] for k in all_sources if all_sources[k][0] in active_beacons and all_sources[k][1] > 2500}\n",
    "combined_sources = {k:all_sources[k] for k in all_sources if all_sources[k][0] in combined_ssids and all_sources[k][1] > 2500}\n",
    "\n",
    "all_rel_sources = {k:all_sources[k] for k in all_sources if all_sources[k][0] in combined_ssids and all_sources[k][1] > 2000}"
   ]
  },
  {
   "cell_type": "code",
   "execution_count": 25,
   "id": "a818d6bb-26b1-4d98-9761-9e7cb7564d25",
   "metadata": {},
   "outputs": [
    {
     "data": {
      "text/plain": [
       "{'28cdc104be6f': ['SBU-12', 5741],\n",
       " '28cdc104be74': ['SBU-08', 4173],\n",
       " '28cdc104be75': ['SBU-07', 5837],\n",
       " '28cdc104be6d': ['SBU-13', 5318],\n",
       " '28cdc104be7d': ['SBU-01', 6463],\n",
       " '28cdc104be77': ['SBU-06', 4638],\n",
       " '28cdc104be78': ['SBU-05', 6299],\n",
       " '28cdc104be7a': ['SBU-04', 6476],\n",
       " '28cdc104be73': ['SBU-09', 4981],\n",
       " '28cdc104be0f': ['SBU-02', 6340],\n",
       " '28cdc104be7b': ['SBU-03', 5235]}"
      ]
     },
     "execution_count": 25,
     "metadata": {},
     "output_type": "execute_result"
    }
   ],
   "source": [
    "beacon_sources"
   ]
  },
  {
   "cell_type": "code",
   "execution_count": 33,
   "id": "dac5990d-2eb7-43d6-ae75-45488ae26b9f",
   "metadata": {},
   "outputs": [
    {
     "data": {
      "text/plain": [
       "137"
      ]
     },
     "execution_count": 33,
     "metadata": {},
     "output_type": "execute_result"
    }
   ],
   "source": [
    "len(all_sources)"
   ]
  },
  {
   "cell_type": "code",
   "execution_count": 34,
   "id": "6c398503-8bae-48ea-ad52-8a3133e9e0d4",
   "metadata": {},
   "outputs": [
    {
     "data": {
      "text/plain": [
       "25"
      ]
     },
     "execution_count": 34,
     "metadata": {},
     "output_type": "execute_result"
    }
   ],
   "source": [
    "len(existing_sources)"
   ]
  },
  {
   "cell_type": "code",
   "execution_count": 44,
   "id": "f1b16329-0f04-4138-a5dc-677b7762ad35",
   "metadata": {},
   "outputs": [],
   "source": [
    "all_sources_extended_non_beacon = {k:all_sources[k] for k in all_sources if all_sources[k][0] in combined_ssids and all_sources[k][1] > 300}"
   ]
  },
  {
   "cell_type": "code",
   "execution_count": 45,
   "id": "1fbd927e-9888-458c-9162-124a7513cf9c",
   "metadata": {},
   "outputs": [],
   "source": [
    "all_sources_extended_non_beacon = [(k, all_sources_extended_non_beacon[k][0], all_sources_extended_non_beacon[k][1]) for k in all_sources_extended_non_beacon if all_sources_extended_non_beacon[k][0] not in active_beacons]"
   ]
  },
  {
   "cell_type": "code",
   "execution_count": 46,
   "id": "d7cabb47-e168-4c42-8aea-845d405848fe",
   "metadata": {},
   "outputs": [],
   "source": [
    "all_sources_extended_non_beacon = sorted(all_sources_extended_non_beacon, key=lambda x : x[2])"
   ]
  },
  {
   "cell_type": "code",
   "execution_count": 47,
   "id": "12c90745-3322-491c-84e0-f36a4dddaf98",
   "metadata": {
    "tags": []
   },
   "outputs": [
    {
     "data": {
      "text/plain": [
       "88"
      ]
     },
     "execution_count": 47,
     "metadata": {},
     "output_type": "execute_result"
    }
   ],
   "source": [
    "len(all_sources_extended_non_beacon)"
   ]
  },
  {
   "cell_type": "code",
   "execution_count": 48,
   "id": "efb3b868-12ad-4057-918e-29053190530e",
   "metadata": {
    "tags": []
   },
   "outputs": [
    {
     "data": {
      "text/plain": [
       "[('1006ed09b120', 'AirYorkPLUS', 341),\n",
       " ('1006ed70df42', 'eduroam', 350),\n",
       " ('1006ed70df43', 'WiFi-Info', 350),\n",
       " ('1006ed70df40', 'AirYorkPLUS', 350),\n",
       " ('1006ed70df41', 'AirYorkGUEST', 350),\n",
       " ('1006ed724fe3', 'WiFi-Info', 379),\n",
       " ('1006ed724fe0', 'AirYorkPLUS', 391),\n",
       " ('1006ed71134c', 'WiFi-Info', 442),\n",
       " ('1006ed71134e', 'AirYorkGUEST', 442),\n",
       " ('1006ed71134f', 'AirYorkPLUS', 442),\n",
       " ('1006ed71134d', 'eduroam', 442),\n",
       " ('1006edc0bb21', 'AirYorkGUEST', 467),\n",
       " ('1006edc0bb22', 'eduroam', 467),\n",
       " ('1006edc0bb23', 'WiFi-Info', 467),\n",
       " ('1006ed71c860', 'AirYorkPLUS', 473),\n",
       " ('1006ed71c863', 'WiFi-Info', 473),\n",
       " ('1006ed724fe1', 'AirYorkGUEST', 479),\n",
       " ('1006ed70df4f', 'AirYorkPLUS', 601),\n",
       " ('1006ed71c862', 'eduroam', 720),\n",
       " ('1006ed716263', 'WiFi-Info', 742),\n",
       " ('1006ed71f1ed', 'eduroam', 784),\n",
       " ('1006ed71c861', 'AirYorkGUEST', 823),\n",
       " ('d8ec5e493749', 'north', 888),\n",
       " ('2c6fc92fecaf', 'DIRECT-AF-HP M506 LaserJet', 930),\n",
       " ('1006ed711341', 'AirYorkGUEST', 934),\n",
       " ('1006ed42bfc2', 'eduroam', 1014),\n",
       " ('1006ed713b40', 'AirYorkPLUS', 1017),\n",
       " ('1006ed711342', 'eduroam', 1047),\n",
       " ('1006ed71f1ee', 'AirYorkGUEST', 1053),\n",
       " ('1006ed71f1ec', 'WiFi-Info', 1053),\n",
       " ('1006ed713b41', 'AirYorkGUEST', 1070),\n",
       " ('1006ed7228c2', 'eduroam', 1085),\n",
       " ('1006ed580d21', 'AirYorkGUEST', 1130),\n",
       " ('1006ed716261', 'AirYorkGUEST', 1135),\n",
       " ('1006ed716262', 'eduroam', 1135),\n",
       " ('1006ed7228c1', 'AirYorkGUEST', 1180),\n",
       " ('1006ed7228c3', 'WiFi-Info', 1180),\n",
       " ('1006ed713b4c', 'WiFi-Info', 1212),\n",
       " ('1006ed713b4e', 'AirYorkGUEST', 1212),\n",
       " ('1006ed713b42', 'eduroam', 1245),\n",
       " ('1006ed713b43', 'WiFi-Info', 1245),\n",
       " ('1006ed580d22', 'eduroam', 1249),\n",
       " ('1006ed42bfc1', 'AirYorkGUEST', 1299),\n",
       " ('1006ed580d23', 'WiFi-Info', 1317),\n",
       " ('1006ed711343', 'WiFi-Info', 1324),\n",
       " ('1006ed713b4f', 'AirYorkPLUS', 1401),\n",
       " ('1006ed714ccc', 'WiFi-Info', 1466),\n",
       " ('1006ed714cce', 'AirYorkGUEST', 1466),\n",
       " ('1006ed714ccd', 'eduroam', 1466),\n",
       " ('1006ed713b4d', 'eduroam', 1477),\n",
       " ('1006ed71626d', 'eduroam', 1547),\n",
       " ('1006ed714cc1', 'AirYorkGUEST', 1559),\n",
       " ('1006ed714cc2', 'eduroam', 1559),\n",
       " ('1006ed711340', 'AirYorkPLUS', 1597),\n",
       " ('1006ed42bfc3', 'WiFi-Info', 1702),\n",
       " ('1006ed71626c', 'WiFi-Info', 1712),\n",
       " ('1006ed71626e', 'AirYorkGUEST', 1712),\n",
       " ('1006ed71626f', 'AirYorkPLUS', 1712),\n",
       " ('002586c28802', 'TPLINK', 1714),\n",
       " ('1006ed714cc3', 'WiFi-Info', 1777),\n",
       " ('1006ed714ccf', 'AirYorkPLUS', 1827),\n",
       " ('1006ed714cc0', 'AirYorkPLUS', 1890),\n",
       " ('1006ed716260', 'AirYorkPLUS', 1972),\n",
       " ('1006ed7228c0', 'AirYorkPLUS', 2067),\n",
       " ('1006ed71f1ef', 'AirYorkPLUS', 2082),\n",
       " ('1006ed42bfcf', 'AirYorkPLUS', 2157),\n",
       " ('1006ed7228cc', 'WiFi-Info', 2239),\n",
       " ('1006ed7228cd', 'eduroam', 2239),\n",
       " ('1006ed42bfcc', 'WiFi-Info', 2337),\n",
       " ('1006ed42bfce', 'AirYorkGUEST', 2337),\n",
       " ('1006ed42bfcd', 'eduroam', 2337),\n",
       " ('1006ed7228cf', 'AirYorkPLUS', 2345),\n",
       " ('1006ed42bfc0', 'AirYorkPLUS', 2400),\n",
       " ('1006ed7228ce', 'AirYorkGUEST', 2424),\n",
       " ('1006ed580d2d', 'eduroam', 2719),\n",
       " ('1006ed580d2c', 'WiFi-Info', 2719),\n",
       " ('1006ed580d2e', 'AirYorkGUEST', 2719),\n",
       " ('1006ed71f1e2', 'eduroam', 2857),\n",
       " ('1006ed71f1e0', 'AirYorkPLUS', 2936),\n",
       " ('1006ed71f1e1', 'AirYorkGUEST', 2951),\n",
       " ('1006ed71f1e3', 'WiFi-Info', 3202),\n",
       " ('1006ed580d20', 'AirYorkPLUS', 3386),\n",
       " ('1006ed580d2f', 'AirYorkPLUS', 3636),\n",
       " ('da5de23e31ef', 'DIRECT-ef-HP M277 LaserJet', 3810),\n",
       " ('d8ec5e49374a', 'north', 4790),\n",
       " ('001cdf229c99', 'protein', 5422),\n",
       " ('d8ec5e493748', 'north', 5506),\n",
       " ('98fc114f4c72', 'aeropuerto', 6303)]"
      ]
     },
     "execution_count": 48,
     "metadata": {},
     "output_type": "execute_result"
    }
   ],
   "source": [
    "all_sources_extended_non_beacon"
   ]
  },
  {
   "cell_type": "code",
   "execution_count": null,
   "id": "fc505705-9c33-475f-bc17-793041d0c6d7",
   "metadata": {},
   "outputs": [],
   "source": []
  },
  {
   "cell_type": "markdown",
   "id": "f85399b1-9df5-4397-a91a-c86c5ede728a",
   "metadata": {
    "jp-MarkdownHeadingCollapsed": true,
    "tags": []
   },
   "source": [
    "### define the 2d coordinates for regression"
   ]
  },
  {
   "cell_type": "code",
   "execution_count": 49,
   "id": "9ffc8eeb-d776-42a4-8256-75e4dc8a3e53",
   "metadata": {},
   "outputs": [],
   "source": [
    "coords_2d = [\n",
    "             [0, 0],                                         [6, 0], \n",
    "             [0, 1], [1, 1], [2, 1], [3, 1], [4, 1], [5, 1], [6, 1], [7, 1],\n",
    "             [0, 2],                                         [6, 2],\n",
    "             [0, 3],                                         [6, 3],\n",
    "             [0, 4],                                         [6, 4],\n",
    "             [0, 5],                                         [6, 5],\n",
    "             [0, 6], [1, 6], [2, 6], [3, 6], [4, 6], [5, 6], [6, 6], \n",
    "    [-1, 7], [0, 7],                                         [6, 7],\n",
    "    [-1, 8], [0, 8],                                         [6, 8],\n",
    "             [0, 9],                                         [6, 9],\n",
    "             [0,10], [1,10], [2,10], [3,10], [4,10], [5,10], [6,10],\n",
    "]"
   ]
  },
  {
   "cell_type": "code",
   "execution_count": 50,
   "id": "e1368bba-7806-43bc-8673-2c91ee6e4345",
   "metadata": {},
   "outputs": [
    {
     "data": {
      "text/plain": [
       "40"
      ]
     },
     "execution_count": 50,
     "metadata": {},
     "output_type": "execute_result"
    }
   ],
   "source": [
    "len(coords_2d)"
   ]
  },
  {
   "cell_type": "code",
   "execution_count": 51,
   "id": "79f5f3a9-a07d-4340-be2a-3e644b32cccd",
   "metadata": {},
   "outputs": [],
   "source": [
    "coords_map = {}\n",
    "for i in range(40):\n",
    "    coords_map[points_names[i]] = coords_2d[i]"
   ]
  },
  {
   "cell_type": "markdown",
   "id": "2c60df17-56fb-4bc8-b9ee-8e8d20a1a859",
   "metadata": {
    "tags": []
   },
   "source": [
    "### create new Pandas DataFrames for running the machine learning"
   ]
  },
  {
   "cell_type": "code",
   "execution_count": 57,
   "id": "f41a9e70-1c09-4242-92b6-e4d083767ce3",
   "metadata": {},
   "outputs": [],
   "source": [
    "selected_bssid_list = list(combined_sources.keys())\n",
    "beacon_bssid_list = list(beacon_sources.keys())\n",
    "existing_bssid_list = list(existing_sources.keys())\n",
    "limited_bssid_list = list(limited_sources.keys())\n",
    "\n",
    "all_rel_bssid_list = list(all_rel_sources.keys())\n",
    "all_bssid_list = list(all_sources.keys())"
   ]
  },
  {
   "cell_type": "code",
   "execution_count": 58,
   "id": "b9dc21c9-6d4e-4152-83c4-32c5adaee9dd",
   "metadata": {},
   "outputs": [],
   "source": [
    "extended_non_beacon_bssid_list = [s[0] for s in all_sources_extended_non_beacon]"
   ]
  },
  {
   "cell_type": "code",
   "execution_count": 59,
   "id": "842e7d71-5959-4a62-bc99-8a11ac9ff058",
   "metadata": {},
   "outputs": [],
   "source": [
    "extended_with_beacon_bssid_list = extended_non_beacon_bssid_list + beacon_bssid_list"
   ]
  },
  {
   "cell_type": "markdown",
   "id": "e2a3c349-147e-40f3-bb2d-af831d87c070",
   "metadata": {
    "tags": []
   },
   "source": [
    "#### version where non existent values are put as NaN"
   ]
  },
  {
   "cell_type": "code",
   "execution_count": 60,
   "id": "0de29af0-67f1-452b-b381-38ea085b6e78",
   "metadata": {},
   "outputs": [],
   "source": [
    "data = []\n",
    "\n",
    "# iterate each data point to create new dataset\n",
    "for pt_key in dataset_map:\n",
    "    datapts = dataset_map[pt_key]\n",
    "    coord_x = coords_map[pt_key][0]\n",
    "    coord_y = coords_map[pt_key][1]\n",
    "    \n",
    "    for p in datapts:\n",
    "        cur_data = [pt_key, coord_x, coord_y, ]\n",
    "        cur_sources_present = {}\n",
    "        for ap in p:\n",
    "            bssid = ap['BSSID']\n",
    "            ssid = ap['SSID']\n",
    "            if bssid in all_bssid_list:\n",
    "                cur_sources_present[bssid] = ap['RSSI']\n",
    "    \n",
    "        # for creating each column in the new df\n",
    "        for selected_beacon in all_bssid_list:\n",
    "            cur_data.append(cur_sources_present.get(selected_beacon, float('NaN')))\n",
    "    \n",
    "        data.append(cur_data)\n",
    "\n",
    "# Create the pandas DataFrame\n",
    "df_tabified_withnan = pd.DataFrame(data, columns=['fp_name', 'coord_x', 'coord_y'] + all_bssid_list)"
   ]
  },
  {
   "cell_type": "code",
   "execution_count": 61,
   "id": "14c852fc-6678-4a55-8d92-c8561028dc4a",
   "metadata": {
    "tags": []
   },
   "outputs": [
    {
     "data": {
      "text/html": [
       "<div>\n",
       "<style scoped>\n",
       "    .dataframe tbody tr th:only-of-type {\n",
       "        vertical-align: middle;\n",
       "    }\n",
       "\n",
       "    .dataframe tbody tr th {\n",
       "        vertical-align: top;\n",
       "    }\n",
       "\n",
       "    .dataframe thead th {\n",
       "        text-align: right;\n",
       "    }\n",
       "</style>\n",
       "<table border=\"1\" class=\"dataframe\">\n",
       "  <thead>\n",
       "    <tr style=\"text-align: right;\">\n",
       "      <th></th>\n",
       "      <th>fp_name</th>\n",
       "      <th>coord_x</th>\n",
       "      <th>coord_y</th>\n",
       "      <th>28cdc104be6f</th>\n",
       "      <th>2c6fc92fecaf</th>\n",
       "      <th>1006ed580d2f</th>\n",
       "      <th>1006ed71c860</th>\n",
       "      <th>1006ed716260</th>\n",
       "      <th>1006ed71f1e0</th>\n",
       "      <th>1006ed580d20</th>\n",
       "      <th>...</th>\n",
       "      <th>1006ed70df4f</th>\n",
       "      <th>0492268269fc</th>\n",
       "      <th>1006ed70df42</th>\n",
       "      <th>1006ed70df43</th>\n",
       "      <th>1006ed70df40</th>\n",
       "      <th>1006ed70df41</th>\n",
       "      <th>1006edc0bb21</th>\n",
       "      <th>1006edc0bb22</th>\n",
       "      <th>1006edc0bb23</th>\n",
       "      <th>1006edc0bb20</th>\n",
       "    </tr>\n",
       "  </thead>\n",
       "  <tbody>\n",
       "    <tr>\n",
       "      <th>0</th>\n",
       "      <td>r2[1]</td>\n",
       "      <td>0</td>\n",
       "      <td>0</td>\n",
       "      <td>-59.5</td>\n",
       "      <td>-88.5</td>\n",
       "      <td>-70.0</td>\n",
       "      <td>-80.0</td>\n",
       "      <td>-50.5</td>\n",
       "      <td>-77.5</td>\n",
       "      <td>-74.5</td>\n",
       "      <td>...</td>\n",
       "      <td>NaN</td>\n",
       "      <td>NaN</td>\n",
       "      <td>NaN</td>\n",
       "      <td>NaN</td>\n",
       "      <td>NaN</td>\n",
       "      <td>NaN</td>\n",
       "      <td>NaN</td>\n",
       "      <td>NaN</td>\n",
       "      <td>NaN</td>\n",
       "      <td>NaN</td>\n",
       "    </tr>\n",
       "    <tr>\n",
       "      <th>1</th>\n",
       "      <td>r2[1]</td>\n",
       "      <td>0</td>\n",
       "      <td>0</td>\n",
       "      <td>-59.5</td>\n",
       "      <td>-88.5</td>\n",
       "      <td>-70.0</td>\n",
       "      <td>-80.0</td>\n",
       "      <td>-50.5</td>\n",
       "      <td>-77.5</td>\n",
       "      <td>-74.5</td>\n",
       "      <td>...</td>\n",
       "      <td>NaN</td>\n",
       "      <td>NaN</td>\n",
       "      <td>NaN</td>\n",
       "      <td>NaN</td>\n",
       "      <td>NaN</td>\n",
       "      <td>NaN</td>\n",
       "      <td>NaN</td>\n",
       "      <td>NaN</td>\n",
       "      <td>NaN</td>\n",
       "      <td>NaN</td>\n",
       "    </tr>\n",
       "    <tr>\n",
       "      <th>2</th>\n",
       "      <td>r2[1]</td>\n",
       "      <td>0</td>\n",
       "      <td>0</td>\n",
       "      <td>-59.5</td>\n",
       "      <td>-88.5</td>\n",
       "      <td>-70.0</td>\n",
       "      <td>-80.0</td>\n",
       "      <td>-50.5</td>\n",
       "      <td>-77.5</td>\n",
       "      <td>-74.5</td>\n",
       "      <td>...</td>\n",
       "      <td>NaN</td>\n",
       "      <td>NaN</td>\n",
       "      <td>NaN</td>\n",
       "      <td>NaN</td>\n",
       "      <td>NaN</td>\n",
       "      <td>NaN</td>\n",
       "      <td>NaN</td>\n",
       "      <td>NaN</td>\n",
       "      <td>NaN</td>\n",
       "      <td>NaN</td>\n",
       "    </tr>\n",
       "    <tr>\n",
       "      <th>3</th>\n",
       "      <td>r2[1]</td>\n",
       "      <td>0</td>\n",
       "      <td>0</td>\n",
       "      <td>-59.5</td>\n",
       "      <td>-88.5</td>\n",
       "      <td>-70.0</td>\n",
       "      <td>-80.0</td>\n",
       "      <td>-50.5</td>\n",
       "      <td>-77.5</td>\n",
       "      <td>-74.5</td>\n",
       "      <td>...</td>\n",
       "      <td>NaN</td>\n",
       "      <td>NaN</td>\n",
       "      <td>NaN</td>\n",
       "      <td>NaN</td>\n",
       "      <td>NaN</td>\n",
       "      <td>NaN</td>\n",
       "      <td>NaN</td>\n",
       "      <td>NaN</td>\n",
       "      <td>NaN</td>\n",
       "      <td>NaN</td>\n",
       "    </tr>\n",
       "    <tr>\n",
       "      <th>4</th>\n",
       "      <td>r2[1]</td>\n",
       "      <td>0</td>\n",
       "      <td>0</td>\n",
       "      <td>-59.5</td>\n",
       "      <td>-88.5</td>\n",
       "      <td>-70.0</td>\n",
       "      <td>-80.0</td>\n",
       "      <td>-50.5</td>\n",
       "      <td>-77.5</td>\n",
       "      <td>-74.5</td>\n",
       "      <td>...</td>\n",
       "      <td>NaN</td>\n",
       "      <td>NaN</td>\n",
       "      <td>NaN</td>\n",
       "      <td>NaN</td>\n",
       "      <td>NaN</td>\n",
       "      <td>NaN</td>\n",
       "      <td>NaN</td>\n",
       "      <td>NaN</td>\n",
       "      <td>NaN</td>\n",
       "      <td>NaN</td>\n",
       "    </tr>\n",
       "    <tr>\n",
       "      <th>...</th>\n",
       "      <td>...</td>\n",
       "      <td>...</td>\n",
       "      <td>...</td>\n",
       "      <td>...</td>\n",
       "      <td>...</td>\n",
       "      <td>...</td>\n",
       "      <td>...</td>\n",
       "      <td>...</td>\n",
       "      <td>...</td>\n",
       "      <td>...</td>\n",
       "      <td>...</td>\n",
       "      <td>...</td>\n",
       "      <td>...</td>\n",
       "      <td>...</td>\n",
       "      <td>...</td>\n",
       "      <td>...</td>\n",
       "      <td>...</td>\n",
       "      <td>...</td>\n",
       "      <td>...</td>\n",
       "      <td>...</td>\n",
       "      <td>...</td>\n",
       "    </tr>\n",
       "    <tr>\n",
       "      <th>7995</th>\n",
       "      <td>r2[40]</td>\n",
       "      <td>6</td>\n",
       "      <td>10</td>\n",
       "      <td>-77.5</td>\n",
       "      <td>NaN</td>\n",
       "      <td>NaN</td>\n",
       "      <td>NaN</td>\n",
       "      <td>NaN</td>\n",
       "      <td>NaN</td>\n",
       "      <td>NaN</td>\n",
       "      <td>...</td>\n",
       "      <td>NaN</td>\n",
       "      <td>NaN</td>\n",
       "      <td>NaN</td>\n",
       "      <td>NaN</td>\n",
       "      <td>NaN</td>\n",
       "      <td>NaN</td>\n",
       "      <td>-73.5</td>\n",
       "      <td>-73.5</td>\n",
       "      <td>-73.5</td>\n",
       "      <td>-73.5</td>\n",
       "    </tr>\n",
       "    <tr>\n",
       "      <th>7996</th>\n",
       "      <td>r2[40]</td>\n",
       "      <td>6</td>\n",
       "      <td>10</td>\n",
       "      <td>-77.5</td>\n",
       "      <td>NaN</td>\n",
       "      <td>NaN</td>\n",
       "      <td>NaN</td>\n",
       "      <td>NaN</td>\n",
       "      <td>NaN</td>\n",
       "      <td>NaN</td>\n",
       "      <td>...</td>\n",
       "      <td>NaN</td>\n",
       "      <td>NaN</td>\n",
       "      <td>NaN</td>\n",
       "      <td>NaN</td>\n",
       "      <td>NaN</td>\n",
       "      <td>NaN</td>\n",
       "      <td>-73.5</td>\n",
       "      <td>-73.5</td>\n",
       "      <td>-73.5</td>\n",
       "      <td>-73.5</td>\n",
       "    </tr>\n",
       "    <tr>\n",
       "      <th>7997</th>\n",
       "      <td>r2[40]</td>\n",
       "      <td>6</td>\n",
       "      <td>10</td>\n",
       "      <td>-77.5</td>\n",
       "      <td>NaN</td>\n",
       "      <td>NaN</td>\n",
       "      <td>NaN</td>\n",
       "      <td>NaN</td>\n",
       "      <td>NaN</td>\n",
       "      <td>NaN</td>\n",
       "      <td>...</td>\n",
       "      <td>NaN</td>\n",
       "      <td>NaN</td>\n",
       "      <td>NaN</td>\n",
       "      <td>NaN</td>\n",
       "      <td>NaN</td>\n",
       "      <td>NaN</td>\n",
       "      <td>-73.5</td>\n",
       "      <td>-73.5</td>\n",
       "      <td>-73.5</td>\n",
       "      <td>-73.5</td>\n",
       "    </tr>\n",
       "    <tr>\n",
       "      <th>7998</th>\n",
       "      <td>r2[40]</td>\n",
       "      <td>6</td>\n",
       "      <td>10</td>\n",
       "      <td>-77.5</td>\n",
       "      <td>NaN</td>\n",
       "      <td>NaN</td>\n",
       "      <td>NaN</td>\n",
       "      <td>NaN</td>\n",
       "      <td>NaN</td>\n",
       "      <td>NaN</td>\n",
       "      <td>...</td>\n",
       "      <td>NaN</td>\n",
       "      <td>NaN</td>\n",
       "      <td>NaN</td>\n",
       "      <td>NaN</td>\n",
       "      <td>NaN</td>\n",
       "      <td>NaN</td>\n",
       "      <td>-73.5</td>\n",
       "      <td>-73.5</td>\n",
       "      <td>-73.5</td>\n",
       "      <td>-73.5</td>\n",
       "    </tr>\n",
       "    <tr>\n",
       "      <th>7999</th>\n",
       "      <td>r2[40]</td>\n",
       "      <td>6</td>\n",
       "      <td>10</td>\n",
       "      <td>-77.5</td>\n",
       "      <td>NaN</td>\n",
       "      <td>NaN</td>\n",
       "      <td>NaN</td>\n",
       "      <td>NaN</td>\n",
       "      <td>NaN</td>\n",
       "      <td>NaN</td>\n",
       "      <td>...</td>\n",
       "      <td>NaN</td>\n",
       "      <td>NaN</td>\n",
       "      <td>NaN</td>\n",
       "      <td>NaN</td>\n",
       "      <td>NaN</td>\n",
       "      <td>NaN</td>\n",
       "      <td>-73.5</td>\n",
       "      <td>-73.5</td>\n",
       "      <td>-73.5</td>\n",
       "      <td>-73.5</td>\n",
       "    </tr>\n",
       "  </tbody>\n",
       "</table>\n",
       "<p>8000 rows × 140 columns</p>\n",
       "</div>"
      ],
      "text/plain": [
       "     fp_name  coord_x  coord_y  28cdc104be6f  2c6fc92fecaf  1006ed580d2f  \\\n",
       "0      r2[1]        0        0         -59.5         -88.5         -70.0   \n",
       "1      r2[1]        0        0         -59.5         -88.5         -70.0   \n",
       "2      r2[1]        0        0         -59.5         -88.5         -70.0   \n",
       "3      r2[1]        0        0         -59.5         -88.5         -70.0   \n",
       "4      r2[1]        0        0         -59.5         -88.5         -70.0   \n",
       "...      ...      ...      ...           ...           ...           ...   \n",
       "7995  r2[40]        6       10         -77.5           NaN           NaN   \n",
       "7996  r2[40]        6       10         -77.5           NaN           NaN   \n",
       "7997  r2[40]        6       10         -77.5           NaN           NaN   \n",
       "7998  r2[40]        6       10         -77.5           NaN           NaN   \n",
       "7999  r2[40]        6       10         -77.5           NaN           NaN   \n",
       "\n",
       "      1006ed71c860  1006ed716260  1006ed71f1e0  1006ed580d20  ...  \\\n",
       "0            -80.0         -50.5         -77.5         -74.5  ...   \n",
       "1            -80.0         -50.5         -77.5         -74.5  ...   \n",
       "2            -80.0         -50.5         -77.5         -74.5  ...   \n",
       "3            -80.0         -50.5         -77.5         -74.5  ...   \n",
       "4            -80.0         -50.5         -77.5         -74.5  ...   \n",
       "...            ...           ...           ...           ...  ...   \n",
       "7995           NaN           NaN           NaN           NaN  ...   \n",
       "7996           NaN           NaN           NaN           NaN  ...   \n",
       "7997           NaN           NaN           NaN           NaN  ...   \n",
       "7998           NaN           NaN           NaN           NaN  ...   \n",
       "7999           NaN           NaN           NaN           NaN  ...   \n",
       "\n",
       "      1006ed70df4f  0492268269fc  1006ed70df42  1006ed70df43  1006ed70df40  \\\n",
       "0              NaN           NaN           NaN           NaN           NaN   \n",
       "1              NaN           NaN           NaN           NaN           NaN   \n",
       "2              NaN           NaN           NaN           NaN           NaN   \n",
       "3              NaN           NaN           NaN           NaN           NaN   \n",
       "4              NaN           NaN           NaN           NaN           NaN   \n",
       "...            ...           ...           ...           ...           ...   \n",
       "7995           NaN           NaN           NaN           NaN           NaN   \n",
       "7996           NaN           NaN           NaN           NaN           NaN   \n",
       "7997           NaN           NaN           NaN           NaN           NaN   \n",
       "7998           NaN           NaN           NaN           NaN           NaN   \n",
       "7999           NaN           NaN           NaN           NaN           NaN   \n",
       "\n",
       "      1006ed70df41  1006edc0bb21  1006edc0bb22  1006edc0bb23  1006edc0bb20  \n",
       "0              NaN           NaN           NaN           NaN           NaN  \n",
       "1              NaN           NaN           NaN           NaN           NaN  \n",
       "2              NaN           NaN           NaN           NaN           NaN  \n",
       "3              NaN           NaN           NaN           NaN           NaN  \n",
       "4              NaN           NaN           NaN           NaN           NaN  \n",
       "...            ...           ...           ...           ...           ...  \n",
       "7995           NaN         -73.5         -73.5         -73.5         -73.5  \n",
       "7996           NaN         -73.5         -73.5         -73.5         -73.5  \n",
       "7997           NaN         -73.5         -73.5         -73.5         -73.5  \n",
       "7998           NaN         -73.5         -73.5         -73.5         -73.5  \n",
       "7999           NaN         -73.5         -73.5         -73.5         -73.5  \n",
       "\n",
       "[8000 rows x 140 columns]"
      ]
     },
     "execution_count": 61,
     "metadata": {},
     "output_type": "execute_result"
    }
   ],
   "source": [
    "df_tabified_withnan"
   ]
  },
  {
   "cell_type": "markdown",
   "id": "2541844f-0945-44e2-bb0a-2defa9f66d6e",
   "metadata": {
    "jp-MarkdownHeadingCollapsed": true,
    "tags": []
   },
   "source": [
    "#### version for extended sources list"
   ]
  },
  {
   "cell_type": "code",
   "execution_count": 113,
   "id": "aea421c1-f8f2-4dfb-a07a-ed13a28c9229",
   "metadata": {},
   "outputs": [],
   "source": [
    "data = []\n",
    "\n",
    "# iterate each data point to create new dataset\n",
    "for pt_key in dataset_map:\n",
    "    datapts = dataset_map[pt_key]\n",
    "    coord_x = coords_map[pt_key][0]\n",
    "    coord_y = coords_map[pt_key][1]\n",
    "    \n",
    "    for p in datapts:\n",
    "        cur_data = [pt_key, coord_x, coord_y, ]\n",
    "        cur_sources_present = {}\n",
    "        for ap in p:\n",
    "            bssid = ap['BSSID']\n",
    "            ssid = ap['SSID']\n",
    "            if bssid in extended_non_beacon_bssid_list:\n",
    "                cur_sources_present[bssid] = ap['RSSI']\n",
    "    \n",
    "        # for creating each column in the new df\n",
    "        for selected_beacon in extended_non_beacon_bssid_list:\n",
    "            cur_data.append(cur_sources_present.get(selected_beacon, float('NaN')))\n",
    "    \n",
    "        data.append(cur_data)\n",
    "\n",
    "# Create the pandas DataFrame\n",
    "df_tabified_ext = pd.DataFrame(data, columns=['fp_name', 'coord_x', 'coord_y'] + extended_non_beacon_bssid_list)"
   ]
  },
  {
   "cell_type": "code",
   "execution_count": 114,
   "id": "a60029ec-9763-4157-b687-5a6c14d5df02",
   "metadata": {
    "tags": []
   },
   "outputs": [
    {
     "data": {
      "text/html": [
       "<div>\n",
       "<style scoped>\n",
       "    .dataframe tbody tr th:only-of-type {\n",
       "        vertical-align: middle;\n",
       "    }\n",
       "\n",
       "    .dataframe tbody tr th {\n",
       "        vertical-align: top;\n",
       "    }\n",
       "\n",
       "    .dataframe thead th {\n",
       "        text-align: right;\n",
       "    }\n",
       "</style>\n",
       "<table border=\"1\" class=\"dataframe\">\n",
       "  <thead>\n",
       "    <tr style=\"text-align: right;\">\n",
       "      <th></th>\n",
       "      <th>fp_name</th>\n",
       "      <th>coord_x</th>\n",
       "      <th>coord_y</th>\n",
       "      <th>1006ed71626d</th>\n",
       "      <th>1006ed714cc1</th>\n",
       "      <th>1006ed714cc2</th>\n",
       "      <th>1006ed711340</th>\n",
       "      <th>1006ed42bfc3</th>\n",
       "      <th>1006ed71626c</th>\n",
       "      <th>1006ed71626e</th>\n",
       "      <th>...</th>\n",
       "      <th>1006ed71f1e0</th>\n",
       "      <th>1006ed71f1e1</th>\n",
       "      <th>1006ed71f1e3</th>\n",
       "      <th>1006ed580d20</th>\n",
       "      <th>1006ed580d2f</th>\n",
       "      <th>da5de23e31ef</th>\n",
       "      <th>d8ec5e49374a</th>\n",
       "      <th>001cdf229c99</th>\n",
       "      <th>d8ec5e493748</th>\n",
       "      <th>98fc114f4c72</th>\n",
       "    </tr>\n",
       "  </thead>\n",
       "  <tbody>\n",
       "    <tr>\n",
       "      <th>0</th>\n",
       "      <td>r2[1]</td>\n",
       "      <td>0</td>\n",
       "      <td>0</td>\n",
       "      <td>NaN</td>\n",
       "      <td>NaN</td>\n",
       "      <td>NaN</td>\n",
       "      <td>NaN</td>\n",
       "      <td>NaN</td>\n",
       "      <td>NaN</td>\n",
       "      <td>NaN</td>\n",
       "      <td>...</td>\n",
       "      <td>-77.5</td>\n",
       "      <td>NaN</td>\n",
       "      <td>NaN</td>\n",
       "      <td>-74.5</td>\n",
       "      <td>-70.0</td>\n",
       "      <td>-83.5</td>\n",
       "      <td>-83.5</td>\n",
       "      <td>-67.5</td>\n",
       "      <td>-74.5</td>\n",
       "      <td>-78.5</td>\n",
       "    </tr>\n",
       "    <tr>\n",
       "      <th>1</th>\n",
       "      <td>r2[1]</td>\n",
       "      <td>0</td>\n",
       "      <td>0</td>\n",
       "      <td>NaN</td>\n",
       "      <td>NaN</td>\n",
       "      <td>NaN</td>\n",
       "      <td>NaN</td>\n",
       "      <td>NaN</td>\n",
       "      <td>NaN</td>\n",
       "      <td>NaN</td>\n",
       "      <td>...</td>\n",
       "      <td>-77.5</td>\n",
       "      <td>NaN</td>\n",
       "      <td>NaN</td>\n",
       "      <td>-74.5</td>\n",
       "      <td>-70.0</td>\n",
       "      <td>-83.5</td>\n",
       "      <td>-83.5</td>\n",
       "      <td>-67.5</td>\n",
       "      <td>-74.5</td>\n",
       "      <td>-78.5</td>\n",
       "    </tr>\n",
       "    <tr>\n",
       "      <th>2</th>\n",
       "      <td>r2[1]</td>\n",
       "      <td>0</td>\n",
       "      <td>0</td>\n",
       "      <td>NaN</td>\n",
       "      <td>NaN</td>\n",
       "      <td>NaN</td>\n",
       "      <td>NaN</td>\n",
       "      <td>NaN</td>\n",
       "      <td>NaN</td>\n",
       "      <td>NaN</td>\n",
       "      <td>...</td>\n",
       "      <td>-77.5</td>\n",
       "      <td>NaN</td>\n",
       "      <td>NaN</td>\n",
       "      <td>-74.5</td>\n",
       "      <td>-70.0</td>\n",
       "      <td>-83.5</td>\n",
       "      <td>-83.5</td>\n",
       "      <td>-67.5</td>\n",
       "      <td>-74.5</td>\n",
       "      <td>-78.5</td>\n",
       "    </tr>\n",
       "    <tr>\n",
       "      <th>3</th>\n",
       "      <td>r2[1]</td>\n",
       "      <td>0</td>\n",
       "      <td>0</td>\n",
       "      <td>NaN</td>\n",
       "      <td>NaN</td>\n",
       "      <td>NaN</td>\n",
       "      <td>NaN</td>\n",
       "      <td>NaN</td>\n",
       "      <td>NaN</td>\n",
       "      <td>NaN</td>\n",
       "      <td>...</td>\n",
       "      <td>-77.5</td>\n",
       "      <td>NaN</td>\n",
       "      <td>NaN</td>\n",
       "      <td>-74.5</td>\n",
       "      <td>-70.0</td>\n",
       "      <td>-83.5</td>\n",
       "      <td>-83.5</td>\n",
       "      <td>-67.5</td>\n",
       "      <td>-74.5</td>\n",
       "      <td>-78.5</td>\n",
       "    </tr>\n",
       "    <tr>\n",
       "      <th>4</th>\n",
       "      <td>r2[1]</td>\n",
       "      <td>0</td>\n",
       "      <td>0</td>\n",
       "      <td>NaN</td>\n",
       "      <td>NaN</td>\n",
       "      <td>NaN</td>\n",
       "      <td>NaN</td>\n",
       "      <td>NaN</td>\n",
       "      <td>NaN</td>\n",
       "      <td>NaN</td>\n",
       "      <td>...</td>\n",
       "      <td>-77.5</td>\n",
       "      <td>NaN</td>\n",
       "      <td>NaN</td>\n",
       "      <td>-74.5</td>\n",
       "      <td>-70.0</td>\n",
       "      <td>-83.5</td>\n",
       "      <td>-83.5</td>\n",
       "      <td>-67.5</td>\n",
       "      <td>-74.5</td>\n",
       "      <td>-78.5</td>\n",
       "    </tr>\n",
       "    <tr>\n",
       "      <th>...</th>\n",
       "      <td>...</td>\n",
       "      <td>...</td>\n",
       "      <td>...</td>\n",
       "      <td>...</td>\n",
       "      <td>...</td>\n",
       "      <td>...</td>\n",
       "      <td>...</td>\n",
       "      <td>...</td>\n",
       "      <td>...</td>\n",
       "      <td>...</td>\n",
       "      <td>...</td>\n",
       "      <td>...</td>\n",
       "      <td>...</td>\n",
       "      <td>...</td>\n",
       "      <td>...</td>\n",
       "      <td>...</td>\n",
       "      <td>...</td>\n",
       "      <td>...</td>\n",
       "      <td>...</td>\n",
       "      <td>...</td>\n",
       "      <td>...</td>\n",
       "    </tr>\n",
       "    <tr>\n",
       "      <th>7995</th>\n",
       "      <td>r2[40]</td>\n",
       "      <td>6</td>\n",
       "      <td>10</td>\n",
       "      <td>NaN</td>\n",
       "      <td>NaN</td>\n",
       "      <td>NaN</td>\n",
       "      <td>-73.5</td>\n",
       "      <td>NaN</td>\n",
       "      <td>NaN</td>\n",
       "      <td>NaN</td>\n",
       "      <td>...</td>\n",
       "      <td>NaN</td>\n",
       "      <td>NaN</td>\n",
       "      <td>NaN</td>\n",
       "      <td>NaN</td>\n",
       "      <td>NaN</td>\n",
       "      <td>NaN</td>\n",
       "      <td>NaN</td>\n",
       "      <td>NaN</td>\n",
       "      <td>NaN</td>\n",
       "      <td>NaN</td>\n",
       "    </tr>\n",
       "    <tr>\n",
       "      <th>7996</th>\n",
       "      <td>r2[40]</td>\n",
       "      <td>6</td>\n",
       "      <td>10</td>\n",
       "      <td>NaN</td>\n",
       "      <td>NaN</td>\n",
       "      <td>NaN</td>\n",
       "      <td>-73.5</td>\n",
       "      <td>NaN</td>\n",
       "      <td>NaN</td>\n",
       "      <td>NaN</td>\n",
       "      <td>...</td>\n",
       "      <td>NaN</td>\n",
       "      <td>NaN</td>\n",
       "      <td>NaN</td>\n",
       "      <td>NaN</td>\n",
       "      <td>NaN</td>\n",
       "      <td>NaN</td>\n",
       "      <td>NaN</td>\n",
       "      <td>NaN</td>\n",
       "      <td>NaN</td>\n",
       "      <td>NaN</td>\n",
       "    </tr>\n",
       "    <tr>\n",
       "      <th>7997</th>\n",
       "      <td>r2[40]</td>\n",
       "      <td>6</td>\n",
       "      <td>10</td>\n",
       "      <td>NaN</td>\n",
       "      <td>NaN</td>\n",
       "      <td>NaN</td>\n",
       "      <td>-73.5</td>\n",
       "      <td>NaN</td>\n",
       "      <td>NaN</td>\n",
       "      <td>NaN</td>\n",
       "      <td>...</td>\n",
       "      <td>NaN</td>\n",
       "      <td>NaN</td>\n",
       "      <td>NaN</td>\n",
       "      <td>NaN</td>\n",
       "      <td>NaN</td>\n",
       "      <td>NaN</td>\n",
       "      <td>NaN</td>\n",
       "      <td>NaN</td>\n",
       "      <td>NaN</td>\n",
       "      <td>NaN</td>\n",
       "    </tr>\n",
       "    <tr>\n",
       "      <th>7998</th>\n",
       "      <td>r2[40]</td>\n",
       "      <td>6</td>\n",
       "      <td>10</td>\n",
       "      <td>NaN</td>\n",
       "      <td>NaN</td>\n",
       "      <td>NaN</td>\n",
       "      <td>-73.5</td>\n",
       "      <td>NaN</td>\n",
       "      <td>NaN</td>\n",
       "      <td>NaN</td>\n",
       "      <td>...</td>\n",
       "      <td>NaN</td>\n",
       "      <td>NaN</td>\n",
       "      <td>NaN</td>\n",
       "      <td>NaN</td>\n",
       "      <td>NaN</td>\n",
       "      <td>NaN</td>\n",
       "      <td>NaN</td>\n",
       "      <td>NaN</td>\n",
       "      <td>NaN</td>\n",
       "      <td>NaN</td>\n",
       "    </tr>\n",
       "    <tr>\n",
       "      <th>7999</th>\n",
       "      <td>r2[40]</td>\n",
       "      <td>6</td>\n",
       "      <td>10</td>\n",
       "      <td>NaN</td>\n",
       "      <td>NaN</td>\n",
       "      <td>NaN</td>\n",
       "      <td>-73.5</td>\n",
       "      <td>NaN</td>\n",
       "      <td>NaN</td>\n",
       "      <td>NaN</td>\n",
       "      <td>...</td>\n",
       "      <td>NaN</td>\n",
       "      <td>NaN</td>\n",
       "      <td>NaN</td>\n",
       "      <td>NaN</td>\n",
       "      <td>NaN</td>\n",
       "      <td>NaN</td>\n",
       "      <td>NaN</td>\n",
       "      <td>NaN</td>\n",
       "      <td>NaN</td>\n",
       "      <td>NaN</td>\n",
       "    </tr>\n",
       "  </tbody>\n",
       "</table>\n",
       "<p>8000 rows × 41 columns</p>\n",
       "</div>"
      ],
      "text/plain": [
       "     fp_name  coord_x  coord_y  1006ed71626d  1006ed714cc1  1006ed714cc2  \\\n",
       "0      r2[1]        0        0           NaN           NaN           NaN   \n",
       "1      r2[1]        0        0           NaN           NaN           NaN   \n",
       "2      r2[1]        0        0           NaN           NaN           NaN   \n",
       "3      r2[1]        0        0           NaN           NaN           NaN   \n",
       "4      r2[1]        0        0           NaN           NaN           NaN   \n",
       "...      ...      ...      ...           ...           ...           ...   \n",
       "7995  r2[40]        6       10           NaN           NaN           NaN   \n",
       "7996  r2[40]        6       10           NaN           NaN           NaN   \n",
       "7997  r2[40]        6       10           NaN           NaN           NaN   \n",
       "7998  r2[40]        6       10           NaN           NaN           NaN   \n",
       "7999  r2[40]        6       10           NaN           NaN           NaN   \n",
       "\n",
       "      1006ed711340  1006ed42bfc3  1006ed71626c  1006ed71626e  ...  \\\n",
       "0              NaN           NaN           NaN           NaN  ...   \n",
       "1              NaN           NaN           NaN           NaN  ...   \n",
       "2              NaN           NaN           NaN           NaN  ...   \n",
       "3              NaN           NaN           NaN           NaN  ...   \n",
       "4              NaN           NaN           NaN           NaN  ...   \n",
       "...            ...           ...           ...           ...  ...   \n",
       "7995         -73.5           NaN           NaN           NaN  ...   \n",
       "7996         -73.5           NaN           NaN           NaN  ...   \n",
       "7997         -73.5           NaN           NaN           NaN  ...   \n",
       "7998         -73.5           NaN           NaN           NaN  ...   \n",
       "7999         -73.5           NaN           NaN           NaN  ...   \n",
       "\n",
       "      1006ed71f1e0  1006ed71f1e1  1006ed71f1e3  1006ed580d20  1006ed580d2f  \\\n",
       "0            -77.5           NaN           NaN         -74.5         -70.0   \n",
       "1            -77.5           NaN           NaN         -74.5         -70.0   \n",
       "2            -77.5           NaN           NaN         -74.5         -70.0   \n",
       "3            -77.5           NaN           NaN         -74.5         -70.0   \n",
       "4            -77.5           NaN           NaN         -74.5         -70.0   \n",
       "...            ...           ...           ...           ...           ...   \n",
       "7995           NaN           NaN           NaN           NaN           NaN   \n",
       "7996           NaN           NaN           NaN           NaN           NaN   \n",
       "7997           NaN           NaN           NaN           NaN           NaN   \n",
       "7998           NaN           NaN           NaN           NaN           NaN   \n",
       "7999           NaN           NaN           NaN           NaN           NaN   \n",
       "\n",
       "      da5de23e31ef  d8ec5e49374a  001cdf229c99  d8ec5e493748  98fc114f4c72  \n",
       "0            -83.5         -83.5         -67.5         -74.5         -78.5  \n",
       "1            -83.5         -83.5         -67.5         -74.5         -78.5  \n",
       "2            -83.5         -83.5         -67.5         -74.5         -78.5  \n",
       "3            -83.5         -83.5         -67.5         -74.5         -78.5  \n",
       "4            -83.5         -83.5         -67.5         -74.5         -78.5  \n",
       "...            ...           ...           ...           ...           ...  \n",
       "7995           NaN           NaN           NaN           NaN           NaN  \n",
       "7996           NaN           NaN           NaN           NaN           NaN  \n",
       "7997           NaN           NaN           NaN           NaN           NaN  \n",
       "7998           NaN           NaN           NaN           NaN           NaN  \n",
       "7999           NaN           NaN           NaN           NaN           NaN  \n",
       "\n",
       "[8000 rows x 41 columns]"
      ]
     },
     "execution_count": 114,
     "metadata": {},
     "output_type": "execute_result"
    }
   ],
   "source": [
    "df_tabified_ext"
   ]
  },
  {
   "cell_type": "markdown",
   "id": "5fac76c8-06e1-4b97-9f10-947040b4dd4e",
   "metadata": {},
   "source": [
    "## Machine learning"
   ]
  },
  {
   "cell_type": "markdown",
   "id": "ae531e8f-a360-4bb8-b63e-ab7574832ed5",
   "metadata": {
    "tags": []
   },
   "source": [
    "### setups"
   ]
  },
  {
   "cell_type": "code",
   "execution_count": 62,
   "id": "c6481786-f1d4-4760-b2e9-f14c87a41915",
   "metadata": {},
   "outputs": [],
   "source": [
    "import sklearn\n",
    "import sklearn.ensemble\n",
    "from sklearn.neighbors import KNeighborsClassifier\n",
    "from sklearn.model_selection import train_test_split\n",
    "import sklearn.multioutput\n",
    "import sklearn.neural_network"
   ]
  },
  {
   "cell_type": "code",
   "execution_count": 63,
   "id": "edf2d03a-b490-488f-af70-0e2d913fa815",
   "metadata": {},
   "outputs": [],
   "source": [
    "# fit a model and get its validation stats\n",
    "def modelstats_classification(X, y, model_create, splitter):\n",
    "    models = []\n",
    "    err_scores = []\n",
    "    \n",
    "    for i, (train_index, test_index) in enumerate(splitter.split(X, y)):\n",
    "        X_train , X_test = X[train_index,:], X[test_index,:]\n",
    "        y_train , y_test = y[train_index], y[test_index]\n",
    "        \n",
    "        model = model_create()\n",
    "    \n",
    "        model.fit(X_train,y_train)\n",
    "        pred_values = model.predict(X_test)\n",
    "        \n",
    "        pred_values_coord = np.array([coords_map[v] for v in pred_values])\n",
    "        y_test_coord = np.array([coords_map[v] for v in y_test])\n",
    "        \n",
    "        err = sklearn.metrics.mean_squared_error(pred_values_coord, y_test_coord)\n",
    "        err_scores.append(err)\n",
    "        models.append(model)\n",
    "\n",
    "    # the total average error distance of all folds\n",
    "    avg_err_dist = (sum(err_scores)/len(err_scores)) ** 0.5\n",
    "    \n",
    "    return {'dist': avg_err_dist, 'scores': err_scores, 'models': models}\n",
    "    \n",
    "def modelstats_regression(X, y, c, model_create, splitter):\n",
    "    models = []\n",
    "    err_scores = []\n",
    "    \n",
    "    for i, (train_index, test_index) in enumerate(splitter.split(X, c)):\n",
    "        X_train , X_test = X[train_index,:], X[test_index,:]\n",
    "        y_train , y_test = y[train_index], y[test_index]\n",
    "        \n",
    "        model = model_create()\n",
    "    \n",
    "        model.fit(X_train,y_train)\n",
    "        pred_values = model.predict(X_test)\n",
    "        \n",
    "        err = sklearn.metrics.mean_squared_error(pred_values, y_test)\n",
    "        err_scores.append(err)\n",
    "        models.append(model)\n",
    "\n",
    "    # the total average error distance of all folds\n",
    "    avg_err_dist = (sum(err_scores)/len(err_scores)) ** 0.5\n",
    "    \n",
    "    return {'dist': avg_err_dist, 'scores': err_scores, 'models': models}"
   ]
  },
  {
   "cell_type": "code",
   "execution_count": 64,
   "id": "5916e91a-afb7-4614-aeaa-735e5413a72d",
   "metadata": {},
   "outputs": [],
   "source": [
    "X_comb = df_tabified_withnan[selected_bssid_list].to_numpy()\n",
    "X_prex = df_tabified_withnan[existing_bssid_list].to_numpy()\n",
    "X_plim = df_tabified_withnan[limited_bssid_list].to_numpy()\n",
    "X_beac = df_tabified_withnan[beacon_bssid_list].to_numpy()\n",
    "\n",
    "tags = ['pre-existing', 'pre-existing limited', 'combined', 'beacons']\n",
    "\n",
    "X_set = [X_prex, X_plim, X_comb, X_beac]\n",
    "X_set_filled = [np.nan_to_num(X, nan=-101) for X in X_set]\n",
    "\n",
    "y_cls = df_tabified_withnan['fp_name'].to_numpy()\n",
    "y_reg = df_tabified_withnan[['coord_x', 'coord_y']].to_numpy()\n",
    "\n",
    "k = 5\n",
    "skf = sklearn.model_selection.StratifiedKFold(n_splits=k, random_state=129, shuffle=True)"
   ]
  },
  {
   "cell_type": "markdown",
   "id": "b78381a9-7941-4efe-8812-33d741a88963",
   "metadata": {
    "tags": []
   },
   "source": [
    "### machine leaning runs"
   ]
  },
  {
   "cell_type": "markdown",
   "id": "ec857f90-5092-48b4-9aa5-ce7ad3dac6eb",
   "metadata": {
    "jp-MarkdownHeadingCollapsed": true,
    "tags": []
   },
   "source": [
    "#### K Nearest Neighbors from scikit learn (new)"
   ]
  },
  {
   "cell_type": "code",
   "execution_count": 82,
   "id": "5c6a4692-8df4-4004-9192-855cd43edd64",
   "metadata": {},
   "outputs": [
    {
     "name": "stdout",
     "output_type": "stream",
     "text": [
      "Average error distance of pre-existing :  0.7026734661277598\n",
      "Average error distance of pre-existing limited :  2.093367502375061\n",
      "Average error distance of combined :  0.39218936752543404\n"
     ]
    }
   ],
   "source": [
    "def create_knn():\n",
    "    return KNeighborsClassifier(n_neighbors=5)\n",
    "\n",
    "dists = []\n",
    "results = []\n",
    "\n",
    "for X in X_set_filled:\n",
    "    stats = modelstats_classification(X, y_cls, create_knn, skf)\n",
    "    results.append(stats)\n",
    "    dists.append(stats['dist'])\n",
    "\n",
    "for i in range(3):\n",
    "    print('Average error distance of', tags[i], ': ', dists[i])"
   ]
  },
  {
   "cell_type": "markdown",
   "id": "8bb401a2-b37d-4e5f-8a57-b7556793db09",
   "metadata": {
    "jp-MarkdownHeadingCollapsed": true,
    "tags": []
   },
   "source": [
    "#### K Nearest Neighbors, distance weighted from scikit learn (new)"
   ]
  },
  {
   "cell_type": "code",
   "execution_count": 83,
   "id": "85349ac7-307b-4edb-82f4-da40ce976fff",
   "metadata": {},
   "outputs": [
    {
     "name": "stdout",
     "output_type": "stream",
     "text": [
      "Average error distance of pre-existing :  0.6972714679377036\n",
      "Average error distance of pre-existing limited :  2.0910374219511234\n",
      "Average error distance of combined :  0.39083244491725605\n"
     ]
    }
   ],
   "source": [
    "def create_dwknn():\n",
    "    return KNeighborsClassifier(n_neighbors=5, weights='distance')\n",
    "\n",
    "dists = []\n",
    "results = []\n",
    "\n",
    "for X in X_set_filled:\n",
    "    stats = modelstats_classification(X, y_cls, create_dwknn, skf)\n",
    "    results.append(stats)\n",
    "    dists.append(stats['dist'])\n",
    "\n",
    "for i in range(3):\n",
    "    print('Average error distance of', tags[i], ': ', dists[i])"
   ]
  },
  {
   "cell_type": "markdown",
   "id": "f189146c-fba3-4b2a-a7ec-37f660faf02b",
   "metadata": {
    "jp-MarkdownHeadingCollapsed": true,
    "tags": []
   },
   "source": [
    "#### HistGradientBoostingClassifier from scikit learn (new)"
   ]
  },
  {
   "cell_type": "code",
   "execution_count": 84,
   "id": "cc4eff97-9c96-4f4e-a469-2e0207a35c3a",
   "metadata": {},
   "outputs": [
    {
     "name": "stdout",
     "output_type": "stream",
     "text": [
      "Average error distance of pre-existing :  0.43423783805651944\n",
      "Average error distance of pre-existing limited :  0.823407554009556\n",
      "Average error distance of combined :  0.33326040868966117\n"
     ]
    }
   ],
   "source": [
    "def create_hgbc():\n",
    "    return sklearn.ensemble.HistGradientBoostingClassifier()\n",
    "\n",
    "dists = []\n",
    "results = []\n",
    "\n",
    "for X in X_set:\n",
    "    stats = modelstats_classification(X, y_cls, create_hgbc, skf)\n",
    "    results.append(stats)\n",
    "    dists.append(stats['dist'])\n",
    "\n",
    "for i in range(3):\n",
    "    print('Average error distance of', tags[i], ': ', dists[i])"
   ]
  },
  {
   "cell_type": "markdown",
   "id": "cfd100ed-12aa-4639-a3ea-0fcea30f1318",
   "metadata": {
    "jp-MarkdownHeadingCollapsed": true,
    "tags": []
   },
   "source": [
    "#### HistGradientBoostingRegressor from scikit learn (new)"
   ]
  },
  {
   "cell_type": "code",
   "execution_count": 85,
   "id": "cd5c9c35-b87e-4692-9239-ceeb04273872",
   "metadata": {},
   "outputs": [
    {
     "name": "stdout",
     "output_type": "stream",
     "text": [
      "Average error distance of pre-existing :  0.38581189700312224\n",
      "Average error distance of pre-existing limited :  0.7533829057239336\n",
      "Average error distance of combined :  0.2761940671787414\n"
     ]
    }
   ],
   "source": [
    "def create_hgbr():\n",
    "    return sklearn.multioutput.MultiOutputRegressor(sklearn.ensemble.HistGradientBoostingRegressor())\n",
    "\n",
    "dists = []\n",
    "results = []\n",
    "\n",
    "for X in X_set:\n",
    "    stats = modelstats_regression(X, y_reg, y_cls, create_hgbr, skf)\n",
    "    results.append(stats)\n",
    "    dists.append(stats['dist'])\n",
    "\n",
    "for i in range(3):\n",
    "    print('Average error distance of', tags[i], ': ', dists[i])"
   ]
  },
  {
   "cell_type": "markdown",
   "id": "0eabe5cc-9c26-4409-9d57-1f1b94b31ac4",
   "metadata": {
    "jp-MarkdownHeadingCollapsed": true,
    "tags": []
   },
   "source": [
    "#### MLPClassifier from scikit learn (new)"
   ]
  },
  {
   "cell_type": "code",
   "execution_count": 86,
   "id": "3380141c-1e18-4a48-a263-33ca9879be55",
   "metadata": {},
   "outputs": [
    {
     "name": "stdout",
     "output_type": "stream",
     "text": [
      "Average error distance of pre-existing :  0.6163400035694584\n",
      "Average error distance of pre-existing limited :  0.9056765427016424\n",
      "Average error distance of combined :  0.3794733192202055\n"
     ]
    }
   ],
   "source": [
    "def create_mlpc():\n",
    "    return sklearn.neural_network.MLPClassifier()\n",
    "\n",
    "dists = []\n",
    "results = []\n",
    "\n",
    "for X in X_set_filled:\n",
    "    stats = modelstats_classification(X, y_cls, create_mlpc, skf)\n",
    "    results.append(stats)\n",
    "    dists.append(stats['dist'])\n",
    "\n",
    "for i in range(3):\n",
    "    print('Average error distance of', tags[i], ': ', dists[i])"
   ]
  },
  {
   "cell_type": "markdown",
   "id": "354c8433-8165-4ed2-86bc-f98ae4ada2aa",
   "metadata": {
    "jp-MarkdownHeadingCollapsed": true,
    "tags": []
   },
   "source": [
    "#### MLPRegressor from scikit learn (new)"
   ]
  },
  {
   "cell_type": "code",
   "execution_count": 87,
   "id": "a428f8b7-e1a1-47bd-b8d2-b6eaff679ae5",
   "metadata": {},
   "outputs": [
    {
     "name": "stderr",
     "output_type": "stream",
     "text": [
      "C:\\Users\\Kevvol\\AppData\\Local\\Programs\\Python\\Python310\\lib\\site-packages\\sklearn\\neural_network\\_multilayer_perceptron.py:702: ConvergenceWarning: Stochastic Optimizer: Maximum iterations (200) reached and the optimization hasn't converged yet.\n",
      "  warnings.warn(\n",
      "C:\\Users\\Kevvol\\AppData\\Local\\Programs\\Python\\Python310\\lib\\site-packages\\sklearn\\neural_network\\_multilayer_perceptron.py:702: ConvergenceWarning: Stochastic Optimizer: Maximum iterations (200) reached and the optimization hasn't converged yet.\n",
      "  warnings.warn(\n",
      "C:\\Users\\Kevvol\\AppData\\Local\\Programs\\Python\\Python310\\lib\\site-packages\\sklearn\\neural_network\\_multilayer_perceptron.py:702: ConvergenceWarning: Stochastic Optimizer: Maximum iterations (200) reached and the optimization hasn't converged yet.\n",
      "  warnings.warn(\n",
      "C:\\Users\\Kevvol\\AppData\\Local\\Programs\\Python\\Python310\\lib\\site-packages\\sklearn\\neural_network\\_multilayer_perceptron.py:702: ConvergenceWarning: Stochastic Optimizer: Maximum iterations (200) reached and the optimization hasn't converged yet.\n",
      "  warnings.warn(\n",
      "C:\\Users\\Kevvol\\AppData\\Local\\Programs\\Python\\Python310\\lib\\site-packages\\sklearn\\neural_network\\_multilayer_perceptron.py:702: ConvergenceWarning: Stochastic Optimizer: Maximum iterations (200) reached and the optimization hasn't converged yet.\n",
      "  warnings.warn(\n"
     ]
    },
    {
     "name": "stdout",
     "output_type": "stream",
     "text": [
      "Average error distance of pre-existing :  1.0482366735255988\n",
      "Average error distance of pre-existing limited :  1.1407733067698618\n",
      "Average error distance of combined :  0.7816544678030101\n"
     ]
    },
    {
     "name": "stderr",
     "output_type": "stream",
     "text": [
      "C:\\Users\\Kevvol\\AppData\\Local\\Programs\\Python\\Python310\\lib\\site-packages\\sklearn\\neural_network\\_multilayer_perceptron.py:702: ConvergenceWarning: Stochastic Optimizer: Maximum iterations (200) reached and the optimization hasn't converged yet.\n",
      "  warnings.warn(\n"
     ]
    }
   ],
   "source": [
    "def create_mlpr():\n",
    "    return sklearn.neural_network.MLPRegressor()\n",
    "\n",
    "dists = []\n",
    "results = []\n",
    "\n",
    "for X in X_set_filled:\n",
    "    stats = modelstats_regression(X, y_reg, y_cls, create_mlpr, skf)\n",
    "    results.append(stats)\n",
    "    dists.append(stats['dist'])\n",
    "\n",
    "for i in range(3):\n",
    "    print('Average error distance of', tags[i], ': ', dists[i])"
   ]
  },
  {
   "cell_type": "markdown",
   "id": "70078df4-ada9-4920-b3af-d900d5206693",
   "metadata": {},
   "source": [
    "#### Run HistGradientBoostingRegressor again for max error"
   ]
  },
  {
   "cell_type": "code",
   "execution_count": 103,
   "id": "7075d467-3b47-4717-9b27-dc4671c2b954",
   "metadata": {},
   "outputs": [],
   "source": [
    "def create_hgbr():\n",
    "    return sklearn.multioutput.MultiOutputRegressor(sklearn.ensemble.HistGradientBoostingRegressor())\n",
    "\n",
    "X_use = X_comb\n",
    "y_use = y_reg\n",
    "\n",
    "models = []\n",
    "err_scores = []\n",
    "predict_dists = []\n",
    "    \n",
    "for i, (train_index, test_index) in enumerate(skf.split(X_use, y_cls)):\n",
    "    X_train , X_test = X_use[train_index,:], X_use[test_index,:]\n",
    "    y_train , y_test = y_use[train_index], y_use[test_index]\n",
    "        \n",
    "    model = create_hgbr()\n",
    "    \n",
    "    model.fit(X_train,y_train)\n",
    "    pred_values = model.predict(X_test)\n",
    "    \n",
    "    dist_calc = pred_values - y_test\n",
    "    predict_dists.append(dist_calc)\n",
    "    # print(pred_values.shape)\n",
    "    # break\n",
    "        \n",
    "    # err = sklearn.metrics.mean_squared_error(pred_values, y_test)\n",
    "    # err_scores.append(err)\n",
    "    # models.append(model)\n"
   ]
  },
  {
   "cell_type": "code",
   "execution_count": 106,
   "id": "4efc6e8f-e2a2-4697-af05-09a53d0e446f",
   "metadata": {},
   "outputs": [
    {
     "name": "stdout",
     "output_type": "stream",
     "text": [
      "4.853365929431331\n"
     ]
    }
   ],
   "source": [
    "predict_dists_2 = np.concatenate([np.hypot(d[:, 0], d[:, 1]) for d in predict_dists])\n",
    "print(np.amax(predict_dists_2))"
   ]
  },
  {
   "cell_type": "code",
   "execution_count": 114,
   "id": "a010d8b6-1263-4170-bbe4-822182deac46",
   "metadata": {},
   "outputs": [
    {
     "name": "stdout",
     "output_type": "stream",
     "text": [
      "50 percentile error distance 0.09480019883694256\n",
      "75 percentile error distance 0.3563622537550364\n",
      "90 percentile error distance 0.6437018814491393\n",
      "95 percentile error distance 0.7668118747581949\n",
      "99 percentile error distance 0.9593419708229205\n",
      "99.9 percentile error distance 3.8117229337041296\n"
     ]
    }
   ],
   "source": [
    "ptiles = [50, 75, 90, 95, 99, 99.9]\n",
    "\n",
    "for i in ptiles:\n",
    "    print(i, 'percentile error distance', np.percentile(predict_dists_2, i))"
   ]
  },
  {
   "cell_type": "code",
   "execution_count": 115,
   "id": "7b508c32-2e13-46a3-952a-cf760f08bdae",
   "metadata": {},
   "outputs": [
    {
     "data": {
      "text/plain": [
       "0.22267690244279256"
      ]
     },
     "execution_count": 115,
     "metadata": {},
     "output_type": "execute_result"
    }
   ],
   "source": [
    "np.mean(predict_dists_2)"
   ]
  },
  {
   "cell_type": "code",
   "execution_count": 135,
   "id": "bebf11bc-9755-4ba2-8b68-5deaa5bd5667",
   "metadata": {},
   "outputs": [
    {
     "data": {
      "image/png": "[encoded data removed]",
      "text/plain": [
       "<Figure size 640x480 with 1 Axes>"
      ]
     },
     "metadata": {},
     "output_type": "display_data"
    }
   ],
   "source": [
    "plt.plot(np.sort(predict_dists_2))\n",
    "plt.suptitle('Distribution of prediction error')\n",
    "plt.xlabel('')\n",
    "plt.ylabel('error in map units')\n",
    "plt.title('(HistGradientBoostingRegressor, 25ap + 11 beacons, 5 fold cross validation)', size=10)\n",
    "plt.savefig('model_errs.png')"
   ]
  },
  {
   "cell_type": "code",
   "execution_count": 124,
   "id": "b7ad8b11-a581-4d70-a436-693eb7dafb1a",
   "metadata": {},
   "outputs": [
    {
     "data": {
      "text/plain": [
       "0.9593419708229205"
      ]
     },
     "execution_count": 124,
     "metadata": {},
     "output_type": "execute_result"
    }
   ],
   "source": [
    "np.sort(predict_dists_2)[-80]"
   ]
  },
  {
   "cell_type": "markdown",
   "id": "4bd9d4a7-a426-4bb5-941a-41637b966baa",
   "metadata": {
    "tags": []
   },
   "source": [
    "### Comparing just existing sources vs. beacon added"
   ]
  },
  {
   "cell_type": "code",
   "execution_count": 68,
   "id": "60c4cb5e-a8a2-4d61-b0a3-85862a614bd5",
   "metadata": {},
   "outputs": [],
   "source": [
    "import matplotlib.pyplot as plt"
   ]
  },
  {
   "cell_type": "markdown",
   "id": "95375fce-a275-4a1f-aeec-06c3cfe884e9",
   "metadata": {
    "tags": []
   },
   "source": [
    "#### HistGradientBoostingRegressor with the extended list\n",
    "looking for the relationship between # of aps vs. avg. error"
   ]
  },
  {
   "cell_type": "code",
   "execution_count": 66,
   "id": "6490d41b-ef3d-4f24-9bcb-6fdb969f1e31",
   "metadata": {},
   "outputs": [
    {
     "name": "stdout",
     "output_type": "stream",
     "text": [
      "amount of bssids in extended set: 88\n"
     ]
    }
   ],
   "source": [
    "print('amount of bssids in extended set:', len(extended_non_beacon_bssid_list))"
   ]
  },
  {
   "cell_type": "code",
   "execution_count": 67,
   "id": "80b449ac-503b-403b-98ad-472ae7e6bea7",
   "metadata": {},
   "outputs": [],
   "source": [
    "def create_hgbr():\n",
    "    return sklearn.multioutput.MultiOutputRegressor(sklearn.ensemble.HistGradientBoostingRegressor())"
   ]
  },
  {
   "cell_type": "code",
   "execution_count": 70,
   "id": "b82189fd-dd91-4a4b-9506-65e468c97726",
   "metadata": {
    "tags": []
   },
   "outputs": [],
   "source": [
    "#dists = []\n",
    "results = []\n",
    "\n",
    "# track amount of ap used vs average errors in distance\n",
    "amount_aps = []\n",
    "res_errors = []\n",
    "\n",
    "l = len(extended_non_beacon_bssid_list)\n",
    "\n",
    "# try from 3 to 38\n",
    "for i in range(3, l+1):\n",
    "    bssids = extended_non_beacon_bssid_list[l-i:]\n",
    "    X = df_tabified_withnan[bssids].to_numpy()\n",
    "    \n",
    "    stats = modelstats_regression(X, y_reg, y_cls, create_hgbr, skf)\n",
    "    results.append(stats)\n",
    "    res_errors.append(stats['dist'])\n",
    "    amount_aps.append(i)\n"
   ]
  },
  {
   "cell_type": "code",
   "execution_count": 71,
   "id": "2b6db37b-d859-4c04-86cd-85c298297d25",
   "metadata": {
    "collapsed": true,
    "jupyter": {
     "outputs_hidden": true
    },
    "tags": []
   },
   "outputs": [
    {
     "name": "stdout",
     "output_type": "stream",
     "text": [
      "# of ap \t\tavg. distance\n",
      "3 \t\t 0.9399699272738233\n",
      "4 \t\t 0.9253142000975176\n",
      "5 \t\t 0.9257170329091075\n",
      "6 \t\t 0.7615617283558105\n",
      "7 \t\t 0.7528214770526884\n",
      "8 \t\t 0.7531782944927706\n",
      "9 \t\t 0.7529194675851738\n",
      "10 \t\t 0.7530365172702981\n",
      "11 \t\t 0.7531489053241774\n",
      "12 \t\t 0.7531425775944017\n",
      "13 \t\t 0.7531919077880772\n",
      "14 \t\t 0.7531525230293646\n",
      "15 \t\t 0.7528342230582727\n",
      "16 \t\t 0.7523673699949193\n",
      "17 \t\t 0.7525483237729812\n",
      "18 \t\t 0.3811378656424341\n",
      "19 \t\t 0.38810570132378636\n",
      "20 \t\t 0.3881276305165083\n",
      "21 \t\t 0.3880278844736678\n",
      "22 \t\t 0.3881520310411641\n",
      "23 \t\t 0.38814365783783\n",
      "24 \t\t 0.3819235766782382\n",
      "25 \t\t 0.3857178760541859\n",
      "26 \t\t 0.37809467124804064\n",
      "27 \t\t 0.3639456013355232\n",
      "28 \t\t 0.2799694034656181\n",
      "29 \t\t 0.28043322566990597\n",
      "30 \t\t 0.28004790657869\n",
      "31 \t\t 0.2798506451966434\n",
      "32 \t\t 0.2798459744814126\n",
      "33 \t\t 0.2798480503662209\n",
      "34 \t\t 0.2794684457360738\n",
      "35 \t\t 0.2760282537338207\n",
      "36 \t\t 0.27573309155212183\n",
      "37 \t\t 0.27584130731492384\n",
      "38 \t\t 0.27588997303438806\n",
      "39 \t\t 0.2729141412774889\n",
      "40 \t\t 0.2728653201788518\n",
      "41 \t\t 0.2728653201788518\n",
      "42 \t\t 0.2728653201788518\n",
      "43 \t\t 0.26938611548824004\n",
      "44 \t\t 0.26917435813702173\n",
      "45 \t\t 0.26951798565521096\n",
      "46 \t\t 0.26931406496959126\n",
      "47 \t\t 0.26939852179172846\n",
      "48 \t\t 0.2547032761408696\n",
      "49 \t\t 0.2547729907733762\n",
      "50 \t\t 0.2546428343667652\n",
      "51 \t\t 0.2546428343667652\n",
      "52 \t\t 0.2544109517592596\n",
      "53 \t\t 0.2544109517592596\n",
      "54 \t\t 0.2548765793338621\n",
      "55 \t\t 0.2548765793338621\n",
      "56 \t\t 0.25488033957582457\n",
      "57 \t\t 0.2548931538460861\n",
      "58 \t\t 0.2548858052326652\n",
      "59 \t\t 0.25496527466077307\n",
      "60 \t\t 0.25496527466077307\n",
      "61 \t\t 0.2547376829776035\n",
      "62 \t\t 0.25468167813488385\n",
      "63 \t\t 0.2546411399499551\n",
      "64 \t\t 0.2546385315317616\n",
      "65 \t\t 0.25459559483723226\n",
      "66 \t\t 0.25761399246713346\n",
      "67 \t\t 0.25748871632902587\n",
      "68 \t\t 0.25755038893039056\n",
      "69 \t\t 0.2574758997961007\n",
      "70 \t\t 0.2574917446677801\n",
      "71 \t\t 0.2574308017566834\n",
      "72 \t\t 0.25748185062775947\n",
      "73 \t\t 0.25749832570444686\n",
      "74 \t\t 0.25749832570444686\n",
      "75 \t\t 0.2574055712144162\n",
      "76 \t\t 0.2574055712144162\n",
      "77 \t\t 0.2574055712144162\n",
      "78 \t\t 0.25753863063001686\n",
      "79 \t\t 0.25753863063001686\n",
      "80 \t\t 0.25753863063001686\n",
      "81 \t\t 0.25753863063001686\n",
      "82 \t\t 0.2575261743830171\n",
      "83 \t\t 0.257524390944818\n",
      "84 \t\t 0.25752699271739693\n",
      "85 \t\t 0.25752699271739693\n",
      "86 \t\t 0.25752699271739693\n",
      "87 \t\t 0.25752699271739693\n",
      "88 \t\t 0.25757498701668513\n"
     ]
    }
   ],
   "source": [
    "print('# of ap ' + '\\t\\t' + 'avg. distance')\n",
    "for i in range(len(amount_aps)):\n",
    "    print(amount_aps[i], '\\t\\t', res_errors[i])"
   ]
  },
  {
   "cell_type": "code",
   "execution_count": 72,
   "id": "8593322c-aaa6-4f27-94f0-62d5e8a7bdd8",
   "metadata": {
    "tags": []
   },
   "outputs": [
    {
     "data": {
      "image/png": "[encoded data removed]",
      "text/plain": [
       "<Figure size 640x480 with 1 Axes>"
      ]
     },
     "metadata": {},
     "output_type": "display_data"
    }
   ],
   "source": [
    "plt.plot(amount_aps, res_errors)\n",
    "plt.title('relationship between number of aps vs. average error')\n",
    "plt.xlabel('number of aps')\n",
    "plt.ylabel('avg. error using\\nHistGradientBoostingRegressor')\n",
    "plt.savefig('plot.png')"
   ]
  },
  {
   "cell_type": "markdown",
   "id": "8a769ee7-13a6-4cd9-8b0b-08a6810cd172",
   "metadata": {},
   "source": [
    "#### now combine them with beacons and check accuracy"
   ]
  },
  {
   "cell_type": "code",
   "execution_count": 73,
   "id": "bd8c4822-43c0-47bd-991d-3baf8ff8ebe9",
   "metadata": {},
   "outputs": [],
   "source": [
    "#dists = []\n",
    "results_2 = []\n",
    "\n",
    "# track amount of ap used vs average errors in distance\n",
    "amount_aps_2 = []\n",
    "res_errors_2 = []\n",
    "\n",
    "l = len(extended_non_beacon_bssid_list)\n",
    "\n",
    "# try from 3 to 38\n",
    "for i in range(3, l+1):\n",
    "    bssids = extended_non_beacon_bssid_list[l-i:]\n",
    "    X = df_tabified_withnan[bssids + beacon_bssid_list].to_numpy()\n",
    "    \n",
    "    stats = modelstats_regression(X, y_reg, y_cls, create_hgbr, skf)\n",
    "    results_2.append(stats)\n",
    "    res_errors_2.append(stats['dist'])\n",
    "    amount_aps_2.append(i)\n"
   ]
  },
  {
   "cell_type": "code",
   "execution_count": 86,
   "id": "30e3849e-0e52-46fe-8dea-a46996adc713",
   "metadata": {},
   "outputs": [
    {
     "data": {
      "image/png": "[encoded data removed]",
      "text/plain": [
       "<Figure size 640x480 with 1 Axes>"
      ]
     },
     "metadata": {},
     "output_type": "display_data"
    }
   ],
   "source": [
    "plt.plot(amount_aps, res_errors, label='without beacons')\n",
    "plt.plot(amount_aps_2, res_errors_2, label='with beacons')\n",
    "plt.plot(amount_aps_2, [0.29566,] * (l-2), label='beacons only')\n",
    "plt.title('relationship between number of aps, with or without beacons vs. average error')\n",
    "plt.xlabel('number of aps')\n",
    "plt.ylabel('avg. error using\\nHistGradientBoostingRegressor')\n",
    "plt.legend()\n",
    "plt.savefig('plot2.png')"
   ]
  },
  {
   "cell_type": "code",
   "execution_count": 74,
   "id": "532db3ad-f3bb-4b55-af0d-56f46abd8bf4",
   "metadata": {
    "collapsed": true,
    "jupyter": {
     "outputs_hidden": true
    },
    "tags": []
   },
   "outputs": [
    {
     "name": "stdout",
     "output_type": "stream",
     "text": [
      "# of ap (w/ beacons)\tavg. distance\n",
      "3 \t\t 0.28839152267757573\n",
      "4 \t\t 0.28934510810201225\n",
      "5 \t\t 0.29431472623619775\n",
      "6 \t\t 0.28933820706417085\n",
      "7 \t\t 0.2746799959274011\n",
      "8 \t\t 0.27453900690005584\n",
      "9 \t\t 0.2748189320504612\n",
      "10 \t\t 0.27361405821021356\n",
      "11 \t\t 0.27322308757428554\n",
      "12 \t\t 0.2780291787124175\n",
      "13 \t\t 0.27801739705840117\n",
      "14 \t\t 0.27809191713051484\n",
      "15 \t\t 0.2787745935698768\n",
      "16 \t\t 0.2750212204480431\n",
      "17 \t\t 0.27480330984352674\n",
      "18 \t\t 0.2712738419503665\n",
      "19 \t\t 0.272785400237798\n",
      "20 \t\t 0.2727344187668955\n",
      "21 \t\t 0.273024002383124\n",
      "22 \t\t 0.27306937853473456\n",
      "23 \t\t 0.2730387187442182\n",
      "24 \t\t 0.2702384631536413\n",
      "25 \t\t 0.2706373172639248\n",
      "26 \t\t 0.26894816123972215\n",
      "27 \t\t 0.26556131214845125\n",
      "28 \t\t 0.2656240846896914\n",
      "29 \t\t 0.2656189283343471\n",
      "30 \t\t 0.2687058210406294\n",
      "31 \t\t 0.2679078877708031\n",
      "32 \t\t 0.2677831419088822\n",
      "33 \t\t 0.26780862452059045\n",
      "34 \t\t 0.26801943079490664\n",
      "35 \t\t 0.26694690077679273\n",
      "36 \t\t 0.26717837134368977\n",
      "37 \t\t 0.26717837134368977\n",
      "38 \t\t 0.26759934020488907\n",
      "39 \t\t 0.2655154547775194\n",
      "40 \t\t 0.26527385834916445\n",
      "41 \t\t 0.265177871285859\n",
      "42 \t\t 0.265177871285859\n",
      "43 \t\t 0.26481088151054066\n",
      "44 \t\t 0.26472967574948025\n",
      "45 \t\t 0.2655914790457235\n",
      "46 \t\t 0.265061370604758\n",
      "47 \t\t 0.26504465320179915\n",
      "48 \t\t 0.26500598048782875\n",
      "49 \t\t 0.2650010713684173\n",
      "50 \t\t 0.26499451437002325\n",
      "51 \t\t 0.26499451437002325\n",
      "52 \t\t 0.2642985377312532\n",
      "53 \t\t 0.2642985377312532\n",
      "54 \t\t 0.2640964802219896\n",
      "55 \t\t 0.2640964802219896\n",
      "56 \t\t 0.2647075176756048\n",
      "57 \t\t 0.2646160912328394\n",
      "58 \t\t 0.2646774846021026\n",
      "59 \t\t 0.2648673012941959\n",
      "60 \t\t 0.2648673012941959\n",
      "61 \t\t 0.26481245890287924\n",
      "62 \t\t 0.264659416308639\n",
      "63 \t\t 0.26443722623846294\n",
      "64 \t\t 0.2644297160723848\n",
      "65 \t\t 0.2644761937426154\n",
      "66 \t\t 0.2651523224831508\n",
      "67 \t\t 0.26515864810626927\n",
      "68 \t\t 0.265066441634313\n",
      "69 \t\t 0.26508558252583575\n",
      "70 \t\t 0.2650966023964011\n",
      "71 \t\t 0.2650864650205557\n",
      "72 \t\t 0.265072871519363\n",
      "73 \t\t 0.265072871519363\n",
      "74 \t\t 0.265072871519363\n",
      "75 \t\t 0.2647533861482909\n",
      "76 \t\t 0.2647533861482909\n",
      "77 \t\t 0.2647533861482909\n",
      "78 \t\t 0.26504103836602044\n",
      "79 \t\t 0.26504103836602044\n",
      "80 \t\t 0.26504103836602044\n",
      "81 \t\t 0.26504103836602044\n",
      "82 \t\t 0.26504103836602044\n",
      "83 \t\t 0.2650192171089692\n",
      "84 \t\t 0.26500748518555567\n",
      "85 \t\t 0.26500748518555567\n",
      "86 \t\t 0.26500748518555567\n",
      "87 \t\t 0.26500748518555567\n",
      "88 \t\t 0.264872865035448\n"
     ]
    }
   ],
   "source": [
    "print('# of ap (w/ beacons)' + '\\t' + 'avg. distance')\n",
    "for i in range(len(amount_aps)):\n",
    "    print(amount_aps_2[i], '\\t\\t', res_errors_2[i])"
   ]
  },
  {
   "cell_type": "code",
   "execution_count": 83,
   "id": "51272468-bf04-458f-9a8b-493ab4d75f5c",
   "metadata": {
    "collapsed": true,
    "jupyter": {
     "outputs_hidden": true
    },
    "tags": []
   },
   "outputs": [
    {
     "name": "stdout",
     "output_type": "stream",
     "text": [
      "[0.9399699272738233, 0.9253142000975176, 0.9257170329091075, 0.7615617283558105, 0.7528214770526884, 0.7531782944927706, 0.7529194675851738, 0.7530365172702981, 0.7531489053241774, 0.7531425775944017, 0.7531919077880772, 0.7531525230293646, 0.7528342230582727, 0.7523673699949193, 0.7525483237729812, 0.3811378656424341, 0.38810570132378636, 0.3881276305165083, 0.3880278844736678, 0.3881520310411641, 0.38814365783783, 0.3819235766782382, 0.3857178760541859, 0.37809467124804064, 0.3639456013355232, 0.2799694034656181, 0.28043322566990597, 0.28004790657869, 0.2798506451966434, 0.2798459744814126, 0.2798480503662209, 0.2794684457360738, 0.2760282537338207, 0.27573309155212183, 0.27584130731492384, 0.27588997303438806, 0.2729141412774889, 0.2728653201788518, 0.2728653201788518, 0.2728653201788518, 0.26938611548824004, 0.26917435813702173, 0.26951798565521096, 0.26931406496959126, 0.26939852179172846, 0.2547032761408696, 0.2547729907733762, 0.2546428343667652, 0.2546428343667652, 0.2544109517592596, 0.2544109517592596, 0.2548765793338621, 0.2548765793338621, 0.25488033957582457, 0.2548931538460861, 0.2548858052326652, 0.25496527466077307, 0.25496527466077307, 0.2547376829776035, 0.25468167813488385, 0.2546411399499551, 0.2546385315317616, 0.25459559483723226, 0.25761399246713346, 0.25748871632902587, 0.25755038893039056, 0.2574758997961007, 0.2574917446677801, 0.2574308017566834, 0.25748185062775947, 0.25749832570444686, 0.25749832570444686, 0.2574055712144162, 0.2574055712144162, 0.2574055712144162, 0.25753863063001686, 0.25753863063001686, 0.25753863063001686, 0.25753863063001686, 0.2575261743830171, 0.257524390944818, 0.25752699271739693, 0.25752699271739693, 0.25752699271739693, 0.25752699271739693, 0.25757498701668513]\n",
      "[0.28839152267757573, 0.28934510810201225, 0.29431472623619775, 0.28933820706417085, 0.2746799959274011, 0.27453900690005584, 0.2748189320504612, 0.27361405821021356, 0.27322308757428554, 0.2780291787124175, 0.27801739705840117, 0.27809191713051484, 0.2787745935698768, 0.2750212204480431, 0.27480330984352674, 0.2712738419503665, 0.272785400237798, 0.2727344187668955, 0.273024002383124, 0.27306937853473456, 0.2730387187442182, 0.2702384631536413, 0.2706373172639248, 0.26894816123972215, 0.26556131214845125, 0.2656240846896914, 0.2656189283343471, 0.2687058210406294, 0.2679078877708031, 0.2677831419088822, 0.26780862452059045, 0.26801943079490664, 0.26694690077679273, 0.26717837134368977, 0.26717837134368977, 0.26759934020488907, 0.2655154547775194, 0.26527385834916445, 0.265177871285859, 0.265177871285859, 0.26481088151054066, 0.26472967574948025, 0.2655914790457235, 0.265061370604758, 0.26504465320179915, 0.26500598048782875, 0.2650010713684173, 0.26499451437002325, 0.26499451437002325, 0.2642985377312532, 0.2642985377312532, 0.2640964802219896, 0.2640964802219896, 0.2647075176756048, 0.2646160912328394, 0.2646774846021026, 0.2648673012941959, 0.2648673012941959, 0.26481245890287924, 0.264659416308639, 0.26443722623846294, 0.2644297160723848, 0.2644761937426154, 0.2651523224831508, 0.26515864810626927, 0.265066441634313, 0.26508558252583575, 0.2650966023964011, 0.2650864650205557, 0.265072871519363, 0.265072871519363, 0.265072871519363, 0.2647533861482909, 0.2647533861482909, 0.2647533861482909, 0.26504103836602044, 0.26504103836602044, 0.26504103836602044, 0.26504103836602044, 0.26504103836602044, 0.2650192171089692, 0.26500748518555567, 0.26500748518555567, 0.26500748518555567, 0.26500748518555567, 0.264872865035448]\n"
     ]
    }
   ],
   "source": [
    "print(res_errors)\n",
    "print(res_errors_2)"
   ]
  },
  {
   "cell_type": "code",
   "execution_count": 100,
   "id": "c3ab5eeb-fb80-44b1-9c98-623d109c582c",
   "metadata": {},
   "outputs": [
    {
     "data": {
      "image/png": "[encoded data removed]",
      "text/plain": [
       "<Figure size 640x480 with 1 Axes>"
      ]
     },
     "metadata": {},
     "output_type": "display_data"
    }
   ],
   "source": [
    "plt.plot(amount_aps, res_errors, label='without beacons', color='#1f77b4')\n",
    "plt.plot(amount_aps_2, res_errors_2, label='with beacons', color='#ff7f0e')\n",
    "plt.plot(amount_aps_2, [0.29556,] * (l-2), label='beacons only', color='#2ca02c')\n",
    "# plt.title('relationship between number of aps, with or without beacons vs. average error')\n",
    "plt.xlabel('number of aps')\n",
    "plt.ylabel('avg. error using\\nHistGradientBoostingRegressor')\n",
    "\n",
    "plt.ylim([0.1, 1.0])\n",
    "# plt.legend()\n",
    "plt.savefig('plot_vdo_3.png')"
   ]
  },
  {
   "cell_type": "markdown",
   "id": "4dab8427-1564-4807-995d-e5b3faf9d8af",
   "metadata": {
    "jp-MarkdownHeadingCollapsed": true,
    "tags": []
   },
   "source": [
    "## Machine learning (old)"
   ]
  },
  {
   "cell_type": "markdown",
   "id": "12f0ec0a-61e2-4b33-93f3-724f368876f9",
   "metadata": {
    "jp-MarkdownHeadingCollapsed": true,
    "tags": []
   },
   "source": [
    "### K Nearest Neighbors from scikit learn"
   ]
  },
  {
   "cell_type": "code",
   "execution_count": 109,
   "id": "c81778c5-bdd6-4f73-996a-c2c873e7cc5a",
   "metadata": {},
   "outputs": [],
   "source": [
    "k = 5\n",
    "skf = sklearn.model_selection.StratifiedKFold(n_splits=k, random_state=129, shuffle=True)\n",
    "models = []"
   ]
  },
  {
   "cell_type": "code",
   "execution_count": 110,
   "id": "7a2beb94-185d-4b2e-8ea5-b7f902d82b94",
   "metadata": {},
   "outputs": [],
   "source": [
    "acc_score = []\n",
    "\n",
    "for i, (train_index, test_index) in enumerate(skf.split(X, y)):\n",
    "    X_train , X_test = X[train_index,:], X[test_index,:]\n",
    "    y_train , y_test = y[train_index], y[test_index]\n",
    "    \n",
    "    model = KNeighborsClassifier(n_neighbors=5)\n",
    "    \n",
    "    model.fit(X_train,y_train)\n",
    "    pred_values = model.predict(X_test)\n",
    "    \n",
    "    acc = sklearn.metrics.accuracy_score(pred_values , y_test)\n",
    "    acc_score.append(acc)\n",
    "    models.append(model)\n",
    "\n",
    "avg_acc_score = sum(acc_score)/k"
   ]
  },
  {
   "cell_type": "code",
   "execution_count": 111,
   "id": "06a1f4e6-7d62-444d-81ba-41434ec21c74",
   "metadata": {},
   "outputs": [
    {
     "name": "stdout",
     "output_type": "stream",
     "text": [
      "accuracy of each fold - [0.7775, 0.76375, 0.764375, 0.7775, 0.75625]\n",
      "Avg accuracy : 0.767875\n"
     ]
    }
   ],
   "source": [
    "print('accuracy of each fold - {}'.format(acc_score))\n",
    "print('Avg accuracy : {}'.format(avg_acc_score))"
   ]
  },
  {
   "cell_type": "markdown",
   "id": "86665447-df93-4e5b-a19b-0e3976e03f21",
   "metadata": {},
   "source": [
    "##### treating it as regression and calculate the error"
   ]
  },
  {
   "cell_type": "code",
   "execution_count": 117,
   "id": "2ba8378f-57f6-4632-8ac5-12892a4d4a23",
   "metadata": {},
   "outputs": [],
   "source": [
    "pred_values_coord = np.array([coords_map[v] for v in pred_values])\n",
    "y_test_coord = np.array([coords_map[v] for v in y_test])"
   ]
  },
  {
   "cell_type": "code",
   "execution_count": 119,
   "id": "e783b2a2-1145-48c0-aa43-a45fb8dd94b6",
   "metadata": {},
   "outputs": [
    {
     "data": {
      "text/plain": [
       "0.3737479096931513"
      ]
     },
     "execution_count": 119,
     "metadata": {},
     "output_type": "execute_result"
    }
   ],
   "source": [
    "sklearn.metrics.mean_squared_error(pred_values_coord, y_test_coord) ** 0.5"
   ]
  },
  {
   "cell_type": "code",
   "execution_count": null,
   "id": "b905747b-a00a-440a-8a9e-6f0712cda65d",
   "metadata": {},
   "outputs": [],
   "source": []
  },
  {
   "cell_type": "markdown",
   "id": "0dce1232-e21b-4aa9-b1ed-6edcddfff615",
   "metadata": {
    "jp-MarkdownHeadingCollapsed": true,
    "tags": []
   },
   "source": [
    "### HistGradientBoostingClassifier from scikit learn"
   ]
  },
  {
   "cell_type": "code",
   "execution_count": 42,
   "id": "214c42c5-b535-4f61-8b7f-dc49d001529b",
   "metadata": {},
   "outputs": [],
   "source": [
    "X = df_tabified_withnan[selected_bssid_list].to_numpy()\n",
    "y = df_tabified_withnan['fp_name'].to_numpy()"
   ]
  },
  {
   "cell_type": "code",
   "execution_count": 43,
   "id": "d3d7cf8b-1284-4c03-9ebf-9ec5ada2305d",
   "metadata": {},
   "outputs": [],
   "source": [
    "k = 5\n",
    "skf = sklearn.model_selection.StratifiedKFold(n_splits=k, random_state=None, shuffle=True)\n",
    "models = []"
   ]
  },
  {
   "cell_type": "code",
   "execution_count": 44,
   "id": "b6d360b9-d27d-4478-bec7-23412b78f996",
   "metadata": {},
   "outputs": [],
   "source": [
    "acc_score = []\n",
    "\n",
    "for i, (train_index, test_index) in enumerate(skf.split(X, y)):\n",
    "    X_train , X_test = X[train_index,:], X[test_index,:]\n",
    "    y_train , y_test = y[train_index], y[test_index]\n",
    "    \n",
    "    model = sklearn.ensemble.HistGradientBoostingClassifier()\n",
    "    \n",
    "    model.fit(X_train,y_train)\n",
    "    pred_values = model.predict(X_test)\n",
    "    \n",
    "    acc = sklearn.metrics.accuracy_score(pred_values , y_test)\n",
    "    acc_score.append(acc)\n",
    "    models.append(model)\n",
    "\n",
    "avg_acc_score = sum(acc_score)/k"
   ]
  },
  {
   "cell_type": "code",
   "execution_count": 45,
   "id": "b05f6771-5006-4145-9837-20f4c49e894d",
   "metadata": {},
   "outputs": [
    {
     "name": "stdout",
     "output_type": "stream",
     "text": [
      "accuracy of each fold - [0.86125, 0.86375, 0.8725, 0.87, 0.874375]\n",
      "Avg accuracy : 0.868375\n"
     ]
    }
   ],
   "source": [
    "print('accuracy of each fold - {}'.format(acc_score))\n",
    "print('Avg accuracy : {}'.format(avg_acc_score))"
   ]
  },
  {
   "cell_type": "code",
   "execution_count": null,
   "id": "4eaea796-0ff8-4a36-95cb-5412b7aa3243",
   "metadata": {},
   "outputs": [],
   "source": []
  },
  {
   "cell_type": "markdown",
   "id": "6b21844c-0482-412f-90a9-c4bc1d81eb76",
   "metadata": {
    "jp-MarkdownHeadingCollapsed": true,
    "tags": []
   },
   "source": [
    "### HistGradientBoostingRegressor from scikit learn"
   ]
  },
  {
   "cell_type": "code",
   "execution_count": 99,
   "id": "52dd5627-9684-4542-a8cc-b95842ed0259",
   "metadata": {},
   "outputs": [],
   "source": [
    "X = df_tabified_withnan[selected_bssid_list].to_numpy()\n",
    "y = df_tabified_withnan[['coord_x', 'coord_y']].to_numpy()\n",
    "c = df_tabified_withnan['fp_name'].to_numpy()"
   ]
  },
  {
   "cell_type": "code",
   "execution_count": 100,
   "id": "f707f87d-f5c9-4a68-bc42-08322f442098",
   "metadata": {},
   "outputs": [],
   "source": [
    "k = 5\n",
    "skf = sklearn.model_selection.StratifiedKFold(n_splits=k, random_state=None, shuffle=True)\n",
    "models = []"
   ]
  },
  {
   "cell_type": "code",
   "execution_count": 105,
   "id": "e090fafb-30b6-44b5-b353-1f41d7337c1c",
   "metadata": {},
   "outputs": [],
   "source": [
    "acc_score = []\n",
    "\n",
    "for i, (train_index, test_index) in enumerate(skf.split(X, c)):\n",
    "    X_train , X_test = X[train_index,:], X[test_index,:]\n",
    "    y_train , y_test = y[train_index, :], y[test_index, :]\n",
    "    \n",
    "    model = sklearn.multioutput.MultiOutputRegressor(sklearn.ensemble.HistGradientBoostingRegressor())\n",
    "    \n",
    "    model.fit(X_train,y_train)\n",
    "    pred_values = model.predict(X_test)\n",
    "    \n",
    "    acc = sklearn.metrics.mean_squared_error(pred_values , y_test)\n",
    "    acc_score.append(acc)\n",
    "    models.append(model)\n",
    "\n",
    "avg_acc_score = sum(acc_score)/k"
   ]
  },
  {
   "cell_type": "code",
   "execution_count": 107,
   "id": "fb127f0d-5662-4939-baa6-2ff7eeb32958",
   "metadata": {},
   "outputs": [
    {
     "name": "stdout",
     "output_type": "stream",
     "text": [
      "error of each fold - [0.06183335782312781, 0.07710564324871068, 0.06582033399687066, 0.0740308471879848, 0.07116986112236147]\n",
      "Avg error : 0.06999200867581108\n",
      "Avg error root : 0.2645600284922329\n"
     ]
    }
   ],
   "source": [
    "print('error of each fold - {}'.format(acc_score))\n",
    "print('Avg error : {}'.format(avg_acc_score))\n",
    "print('Avg error root : {}'.format(avg_acc_score ** 0.5))"
   ]
  },
  {
   "cell_type": "code",
   "execution_count": null,
   "id": "c5252a74-1261-4e78-93e9-7964b9548458",
   "metadata": {},
   "outputs": [],
   "source": []
  },
  {
   "cell_type": "code",
   "execution_count": null,
   "id": "5f0a8e67-34ab-4f2b-bffb-b8a488243fe3",
   "metadata": {},
   "outputs": [],
   "source": []
  },
  {
   "cell_type": "markdown",
   "id": "b4ab6869-218d-4373-bc2e-f6fee2963de2",
   "metadata": {
    "jp-MarkdownHeadingCollapsed": true,
    "tags": []
   },
   "source": [
    "## notes"
   ]
  },
  {
   "cell_type": "markdown",
   "id": "76de0d82-ecb3-47ef-820f-c51eba9cccf2",
   "metadata": {},
   "source": [
    "We want to construct a table that compares the average MSE of:\n",
    "\n",
    "- just existing points\n",
    "- all access points\n",
    "- just smart beacons \n",
    "\n",
    "compared with methods:\n",
    "\n",
    "- KNeighborsClassifier\n",
    "- KNeighborsClassifier, distance weighted\n",
    "- HistGradientBoostingClassifier\n",
    "- MLPClassifier\n",
    "\n",
    "- HistGradientBoostingRegressor\n",
    "- MLPRegressor"
   ]
  },
  {
   "cell_type": "code",
   "execution_count": null,
   "id": "b7d334d3-18c4-425e-a033-28b8e001c2c5",
   "metadata": {},
   "outputs": [],
   "source": []
  },
  {
   "cell_type": "code",
   "execution_count": 124,
   "id": "16256749-d297-4232-bb8a-358772988c68",
   "metadata": {},
   "outputs": [],
   "source": [
    "y_true = np.array([3, -0.5, 2, 7])\n",
    "y_pred = np.array([2.5, 0.0, 2, 8])"
   ]
  },
  {
   "cell_type": "code",
   "execution_count": 125,
   "id": "d390eaa4-9899-430f-8987-539971ea47b7",
   "metadata": {},
   "outputs": [
    {
     "data": {
      "text/plain": [
       "0.375"
      ]
     },
     "execution_count": 125,
     "metadata": {},
     "output_type": "execute_result"
    }
   ],
   "source": [
    "sklearn.metrics.mean_squared_error(y_true, y_pred)"
   ]
  },
  {
   "cell_type": "code",
   "execution_count": 128,
   "id": "b70d8dce-f238-4750-8602-31df746a8f11",
   "metadata": {},
   "outputs": [
    {
     "data": {
      "text/plain": [
       "0.375"
      ]
     },
     "execution_count": 128,
     "metadata": {},
     "output_type": "execute_result"
    }
   ],
   "source": [
    "np.sum((y_true - y_pred) ** 2) / 4"
   ]
  },
  {
   "cell_type": "code",
   "execution_count": null,
   "id": "a1e16d83-5a67-40c1-ba3b-bca5d459df77",
   "metadata": {},
   "outputs": [],
   "source": []
  }
 ],
 "metadata": {
  "kernelspec": {
   "display_name": "Python 3 (ipykernel)",
   "language": "python",
   "name": "python3"
  },
  "language_info": {
   "codemirror_mode": {
    "name": "ipython",
    "version": 3
   },
   "file_extension": ".py",
   "mimetype": "text/x-python",
   "name": "python",
   "nbconvert_exporter": "python",
   "pygments_lexer": "ipython3",
   "version": "3.10.8"
  }
 },
 "nbformat": 4,
 "nbformat_minor": 5
}
