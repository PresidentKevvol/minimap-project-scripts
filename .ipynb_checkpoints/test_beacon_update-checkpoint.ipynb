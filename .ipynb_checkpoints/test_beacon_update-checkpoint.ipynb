{
 "cells": [
  {
   "cell_type": "code",
   "execution_count": 1,
   "id": "5a8198b4-2be3-4bfe-ac1c-ca6507041698",
   "metadata": {},
   "outputs": [],
   "source": [
    "import requests"
   ]
  },
  {
   "cell_type": "code",
   "execution_count": 2,
   "id": "19fadc02-5477-4271-a456-10a95716c560",
   "metadata": {},
   "outputs": [],
   "source": [
    "def to_payload(aps):\n",
    "    res = []\n",
    "    for ap in aps:\n",
    "        res.append({\"SSID\": ap[0], \"BSSID\": ap[1], \"Channel\": ap[2], \"RSSI\": ap[3]})\n",
    "    return res"
   ]
  },
  {
   "cell_type": "code",
   "execution_count": 3,
   "id": "58254f22-f247-44eb-ab3e-f4efeef60803",
   "metadata": {},
   "outputs": [],
   "source": [
    "accessPoints_1 = [\n",
    "    ('Sinead', '33\\x0b\\xe1', 5, -31),\n",
    "    ('Giuliano', '33\\x0b\\xf0', 11, -56),\n",
    "    ('Yuli', '25\\x18\\xa5', 6, -66),\n",
    "    ('Sinead', 'c0\\x82\\x1c', 2, -81),\n",
    "]"
   ]
  },
  {
   "cell_type": "code",
   "execution_count": 4,
   "id": "3079e2e0-038e-436d-834f-7feeb8e9f5a9",
   "metadata": {},
   "outputs": [],
   "source": [
    "accessPoints_2 = [\n",
    "    ('Sinead', '33\\x0b\\xe1', 5, -59),\n",
    "    ('Giuliano', '33\\x0b\\xf0', 11, -45),\n",
    "    ('Yuli', '25\\x18\\xa5', 6, -89),\n",
    "    ('Sinead', 'c0\\x82\\x1c', 2, -59),\n",
    "]"
   ]
  },
  {
   "cell_type": "code",
   "execution_count": 5,
   "id": "2f4508bc-3bd8-4c0a-8fa1-15fa034ddbd1",
   "metadata": {},
   "outputs": [],
   "source": [
    "payload_1 = {\"SourceName\": 'SBU-01', \"Points\": to_payload(accessPoints_1)}\n",
    "payload_2 = {\"SourceName\": 'SBU-02', \"Points\": to_payload(accessPoints_2)}\n"
   ]
  },
  {
   "cell_type": "code",
   "execution_count": 15,
   "id": "723f68e0-8dee-485a-8e16-728c7e5e720c",
   "metadata": {},
   "outputs": [
    {
     "data": {
      "text/plain": [
       "<Response [500]>"
      ]
     },
     "execution_count": 15,
     "metadata": {},
     "output_type": "execute_result"
    }
   ],
   "source": [
    "requests.post(\"http://\" + \"localhost:8884/p/\", json=payload_1)"
   ]
  },
  {
   "cell_type": "code",
   "execution_count": 12,
   "id": "25b8de99-905b-431c-b731-d4b40e51cf89",
   "metadata": {},
   "outputs": [],
   "source": [
    "headers = {\"Beacon-Name\": \"SBU-01\", \"Beacon-Password\":\"cghj1A90tS3h7Msd\"}\n",
    "# wrong password\n",
    "headers_e = {\"Beacon-Name\": \"SBU-01\", \"Beacon-Password\":\"cghj1A903h7Msd\"}"
   ]
  },
  {
   "cell_type": "code",
   "execution_count": 13,
   "id": "fa650db6-8e8b-449a-986e-08786d3ec498",
   "metadata": {},
   "outputs": [
    {
     "data": {
      "text/plain": [
       "<Response [200]>"
      ]
     },
     "execution_count": 13,
     "metadata": {},
     "output_type": "execute_result"
    }
   ],
   "source": [
    "requests.post(\"http://\" + \"localhost:8884/p/\", json=payload_2,headers=headers)"
   ]
  },
  {
   "cell_type": "code",
   "execution_count": 14,
   "id": "7b47a94e-8481-44a2-9499-c2c71ff0a3b6",
   "metadata": {},
   "outputs": [
    {
     "data": {
      "text/plain": [
       "<Response [500]>"
      ]
     },
     "execution_count": 14,
     "metadata": {},
     "output_type": "execute_result"
    }
   ],
   "source": [
    "requests.post(\"http://\" + \"localhost:8884/p/\", json=payload_2,headers=headers_e)"
   ]
  },
  {
   "cell_type": "code",
   "execution_count": 16,
   "id": "2dcf6aac-1dfd-4d73-9673-a9ef1c2a1ce8",
   "metadata": {},
   "outputs": [
    {
     "data": {
      "text/plain": [
       "<Response [200]>"
      ]
     },
     "execution_count": 16,
     "metadata": {},
     "output_type": "execute_result"
    }
   ],
   "source": [
    "requests.post(\"http://\" + \"localhost:8884/p/\", json=payload_1,headers=headers)"
   ]
  },
  {
   "cell_type": "code",
   "execution_count": null,
   "id": "7b916e50-517e-4ee2-8d74-41e9c3957aa6",
   "metadata": {},
   "outputs": [],
   "source": []
  }
 ],
 "metadata": {
  "kernelspec": {
   "display_name": "Python 3 (ipykernel)",
   "language": "python",
   "name": "python3"
  },
  "language_info": {
   "codemirror_mode": {
    "name": "ipython",
    "version": 3
   },
   "file_extension": ".py",
   "mimetype": "text/x-python",
   "name": "python",
   "nbconvert_exporter": "python",
   "pygments_lexer": "ipython3",
   "version": "3.10.8"
  }
 },
 "nbformat": 4,
 "nbformat_minor": 5
}
