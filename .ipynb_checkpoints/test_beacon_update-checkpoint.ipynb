{
 "cells": [
  {
   "cell_type": "code",
   "execution_count": 1,
   "id": "5a8198b4-2be3-4bfe-ac1c-ca6507041698",
   "metadata": {},
   "outputs": [],
   "source": [
    "import requests"
   ]
  },
  {
   "cell_type": "code",
   "execution_count": 2,
   "id": "19fadc02-5477-4271-a456-10a95716c560",
   "metadata": {},
   "outputs": [],
   "source": [
    "def to_payload(aps):\n",
    "    res = []\n",
    "    for ap in aps:\n",
    "        res.append({\"SSID\": ap[0], \"BSSID\": ap[1], \"Channel\": ap[2], \"RSSI\": ap[3]})\n",
    "    return res"
   ]
  },
  {
   "cell_type": "code",
   "execution_count": 3,
   "id": "58254f22-f247-44eb-ab3e-f4efeef60803",
   "metadata": {},
   "outputs": [],
   "source": [
    "accessPoints_1 = [\n",
    "    ('Sinead',   '203a079ef1a0', 5, -31),\n",
    "    ('Giuliano', '34a84e3bb042', 11, -56),\n",
    "    ('Yuli',     '34a84e3bb043', 6, -66),\n",
    "    ('Sinead',   '34a84e3bb040', 2, -81),\n",
    "]"
   ]
  },
  {
   "cell_type": "code",
   "execution_count": 4,
   "id": "3079e2e0-038e-436d-834f-7feeb8e9f5a9",
   "metadata": {},
   "outputs": [],
   "source": [
    "accessPoints_2 = [\n",
    "    ('Sinead',   '203a079ef1a0', 5, -59),\n",
    "    ('Giuliano', '34a84e3bb042', 11, -45),\n",
    "    ('Yuli',     '34a84e3bb043', 6, -89),\n",
    "    ('Sinead',   '34a84e3bb040', 2, -59),\n",
    "    ('Bob',      '92324b882f8d', 1, -64),\n",
    "]"
   ]
  },
  {
   "cell_type": "code",
   "execution_count": 24,
   "id": "2f4508bc-3bd8-4c0a-8fa1-15fa034ddbd1",
   "metadata": {},
   "outputs": [],
   "source": [
    "payload_1 = {\"SourceName\": 'SBU-01', \"Points\": to_payload(accessPoints_1)}\n",
    "payload_2 = {\"SourceName\": 'SBU-02', \"Points\": to_payload(accessPoints_2)}\n",
    "#payload_3 = {\"SourceName\": 'SBU-UT', \"Points\": to_payload(accessPoints_2)}\n",
    "payload_4 = {\"SourceName\": 'SBU-01', \"Points\": to_payload(accessPoints_2)}\n"
   ]
  },
  {
   "cell_type": "code",
   "execution_count": 28,
   "id": "723f68e0-8dee-485a-8e16-728c7e5e720c",
   "metadata": {},
   "outputs": [
    {
     "data": {
      "text/plain": [
       "<Response [200]>"
      ]
     },
     "execution_count": 28,
     "metadata": {},
     "output_type": "execute_result"
    }
   ],
   "source": [
    "requests.post(\"http://\" + \"localhost:8884/p/\", json=payload_1)"
   ]
  },
  {
   "cell_type": "code",
   "execution_count": 29,
   "id": "6540b141-9157-4b88-bbbb-a601e83d3c9b",
   "metadata": {},
   "outputs": [
    {
     "data": {
      "text/plain": [
       "<Response [200]>"
      ]
     },
     "execution_count": 29,
     "metadata": {},
     "output_type": "execute_result"
    }
   ],
   "source": [
    "requests.post(\"http://\" + \"localhost:8884/p/\", json=payload_4)"
   ]
  },
  {
   "cell_type": "code",
   "execution_count": 30,
   "id": "1554725a-8306-4223-9da1-ae1db836506c",
   "metadata": {},
   "outputs": [
    {
     "data": {
      "text/plain": [
       "<Response [200]>"
      ]
     },
     "execution_count": 30,
     "metadata": {},
     "output_type": "execute_result"
    }
   ],
   "source": [
    "requests.post(\"http://\" + \"localhost:8884/p/\", json=payload_2)"
   ]
  },
  {
   "cell_type": "code",
   "execution_count": 31,
   "id": "545d5c16-0410-4afc-8474-1b4fd2839961",
   "metadata": {},
   "outputs": [],
   "source": [
    "for i in range(15):\n",
    "    for j in range(11):\n",
    "        pl = {\"SourceName\": 'SBU-{:02d}'.format(i), \"Points\": to_payload(accessPoints_1)}\n",
    "        requests.post(\"http://\" + \"localhost:8884/p/\", json=pl)"
   ]
  },
  {
   "cell_type": "code",
   "execution_count": 30,
   "id": "0f0375f2-dee2-424d-8937-e4de3ca69023",
   "metadata": {},
   "outputs": [
    {
     "data": {
      "text/plain": [
       "'SBU-03'"
      ]
     },
     "execution_count": 30,
     "metadata": {},
     "output_type": "execute_result"
    }
   ],
   "source": [
    "'SBU-{:02d}'.format(3)"
   ]
  },
  {
   "cell_type": "markdown",
   "id": "f076903d-d1e8-4f07-ab83-b4e986f7438a",
   "metadata": {
    "jp-MarkdownHeadingCollapsed": true,
    "tags": []
   },
   "source": [
    "#### data collection controller"
   ]
  },
  {
   "cell_type": "code",
   "execution_count": 18,
   "id": "764e6dc8-6a8c-4482-b0fa-e061cab6b8d0",
   "metadata": {},
   "outputs": [],
   "source": [
    "accessPoints_fingerprint = [\n",
    "    {\"SSID\": 'Sinead',   \"BSSID\": '203a079ef1a0', \"Quality\": 15},\n",
    "    {\"SSID\": 'Giuliano', \"BSSID\": '34a84e3bb042', \"Quality\": 32},\n",
    "    {\"SSID\": 'Yuli',     \"BSSID\": '34a84e3bb043', \"Quality\": 44},\n",
    "    {\"SSID\": 'Sinead',   \"BSSID\": '34a84e3bb040', \"Quality\": 39},\n",
    "    {\"SSID\": 'Bob',      \"BSSID\": '92324b882f8d', \"Quality\": 60},\n",
    "]"
   ]
  },
  {
   "cell_type": "code",
   "execution_count": 19,
   "id": "185081d2-3fe2-4bb2-bc5c-60ca280f4add",
   "metadata": {},
   "outputs": [],
   "source": [
    "payload_fingerprint = {\n",
    "    'SourceName'      :  \"test\",\n",
    "    'SourceDeviceId'  :  \"test-id\",\n",
    "    'Points'          :  accessPoints_fingerprint,\n",
    "    'SpatialPosition' :  [1.4, 2.0],\n",
    "}"
   ]
  },
  {
   "cell_type": "code",
   "execution_count": 20,
   "id": "566c0106-13d9-4135-a1e7-8457140b8d3c",
   "metadata": {},
   "outputs": [
    {
     "data": {
      "text/plain": [
       "<Response [200]>"
      ]
     },
     "execution_count": 20,
     "metadata": {},
     "output_type": "execute_result"
    }
   ],
   "source": [
    "# send to server\n",
    "requests.post(\"http://\" + \"localhost:8884/f/\", json=payload_fingerprint)"
   ]
  },
  {
   "cell_type": "code",
   "execution_count": null,
   "id": "a383f7ac-a6e6-4dc1-ba1f-f5b3c4fc6fb0",
   "metadata": {},
   "outputs": [],
   "source": []
  },
  {
   "cell_type": "markdown",
   "id": "21e0549e-bf28-4727-babd-9d2565fd2544",
   "metadata": {
    "jp-MarkdownHeadingCollapsed": true,
    "tags": []
   },
   "source": [
    "#### for testing auth"
   ]
  },
  {
   "cell_type": "code",
   "execution_count": 12,
   "id": "25b8de99-905b-431c-b731-d4b40e51cf89",
   "metadata": {},
   "outputs": [],
   "source": [
    "headers = {\"Beacon-Name\": \"SBU-01\", \"Beacon-Password\":\"cghj1A90tS3h7Msd\"}\n",
    "# wrong password\n",
    "headers_e = {\"Beacon-Name\": \"SBU-01\", \"Beacon-Password\":\"cghj1A903h7Msd\"}"
   ]
  },
  {
   "cell_type": "code",
   "execution_count": 13,
   "id": "fa650db6-8e8b-449a-986e-08786d3ec498",
   "metadata": {},
   "outputs": [
    {
     "data": {
      "text/plain": [
       "<Response [200]>"
      ]
     },
     "execution_count": 13,
     "metadata": {},
     "output_type": "execute_result"
    }
   ],
   "source": [
    "requests.post(\"http://\" + \"localhost:8884/p/\", json=payload_2,headers=headers)"
   ]
  },
  {
   "cell_type": "code",
   "execution_count": 14,
   "id": "7b47a94e-8481-44a2-9499-c2c71ff0a3b6",
   "metadata": {},
   "outputs": [
    {
     "data": {
      "text/plain": [
       "<Response [500]>"
      ]
     },
     "execution_count": 14,
     "metadata": {},
     "output_type": "execute_result"
    }
   ],
   "source": [
    "requests.post(\"http://\" + \"localhost:8884/p/\", json=payload_2,headers=headers_e)"
   ]
  },
  {
   "cell_type": "code",
   "execution_count": 16,
   "id": "2dcf6aac-1dfd-4d73-9673-a9ef1c2a1ce8",
   "metadata": {},
   "outputs": [
    {
     "data": {
      "text/plain": [
       "<Response [200]>"
      ]
     },
     "execution_count": 16,
     "metadata": {},
     "output_type": "execute_result"
    }
   ],
   "source": [
    "requests.post(\"http://\" + \"localhost:8884/p/\", json=payload_1,headers=headers)"
   ]
  },
  {
   "cell_type": "code",
   "execution_count": 18,
   "id": "7b916e50-517e-4ee2-8d74-41e9c3957aa6",
   "metadata": {},
   "outputs": [
    {
     "data": {
      "text/plain": [
       "<Response [200]>"
      ]
     },
     "execution_count": 18,
     "metadata": {},
     "output_type": "execute_result"
    }
   ],
   "source": [
    "#requests.post(\"http://\" + \"minimappivot.hornetsnestguild.com/p/\", json=payload_3)"
   ]
  },
  {
   "cell_type": "markdown",
   "id": "75f3349b-f85e-48cb-907c-2a65ebfa51df",
   "metadata": {
    "jp-MarkdownHeadingCollapsed": true,
    "tags": []
   },
   "source": [
    "### to remote server"
   ]
  },
  {
   "cell_type": "code",
   "execution_count": 46,
   "id": "1a27d1f9-f76e-4676-a668-1010072ea51f",
   "metadata": {},
   "outputs": [
    {
     "data": {
      "text/plain": [
       "<Response [200]>"
      ]
     },
     "execution_count": 46,
     "metadata": {},
     "output_type": "execute_result"
    }
   ],
   "source": [
    "requests.post(\"http://\" + \"minimappivot.hornetsnestguild.com/p/\", json=payload_1)"
   ]
  },
  {
   "cell_type": "code",
   "execution_count": null,
   "id": "1482d548-11ea-43ab-a9ac-92c68211da15",
   "metadata": {},
   "outputs": [],
   "source": []
  },
  {
   "cell_type": "markdown",
   "id": "a7f568f5-6d6e-42bc-b86b-f7aa20b92cbd",
   "metadata": {},
   "source": [
    "### for fingerprint data collection"
   ]
  },
  {
   "cell_type": "code",
   "execution_count": 31,
   "id": "dd64bf2a-75e2-45c0-8918-93dc4dc51fc9",
   "metadata": {},
   "outputs": [],
   "source": [
    "def to_payload_fp(aps):\n",
    "    res = []\n",
    "    for ap in aps:\n",
    "        res.append({\"SSID\": ap[0], \"BSSID\": ap[1], \"RSSI\": ap[3]})\n",
    "    return res"
   ]
  },
  {
   "cell_type": "code",
   "execution_count": 34,
   "id": "90d025a4-708b-4cbb-b513-30e589f2a468",
   "metadata": {},
   "outputs": [],
   "source": [
    "fp_payload_1 = {\"SourceDeviceId\": 'laptop-01', \"Points\": to_payload_fp(accessPoints_2), \"SpatialId\":\"[12, -3]\", \"Note\": \"\"}\n",
    "fp_payload_2 = {\"SourceDeviceId\": 'laptop-01', \"Points\": to_payload_fp(accessPoints_1), \"SpatialId\":\"[11, 0]\", \"Note\": \"\"}"
   ]
  },
  {
   "cell_type": "code",
   "execution_count": 33,
   "id": "7e1b5f28-e531-4678-805b-74e8fa94a7a4",
   "metadata": {},
   "outputs": [
    {
     "data": {
      "text/plain": [
       "<Response [200]>"
      ]
     },
     "execution_count": 33,
     "metadata": {},
     "output_type": "execute_result"
    }
   ],
   "source": [
    "requests.post(\"http://\" + \"localhost:8884/f/\", json=fp_payload_1)"
   ]
  },
  {
   "cell_type": "code",
   "execution_count": 35,
   "id": "3f9509b5-1518-49c3-a02f-b3e121ce318d",
   "metadata": {},
   "outputs": [
    {
     "data": {
      "text/plain": [
       "<Response [200]>"
      ]
     },
     "execution_count": 35,
     "metadata": {},
     "output_type": "execute_result"
    }
   ],
   "source": [
    "requests.post(\"http://\" + \"localhost:8884/f/\", json=fp_payload_2)"
   ]
  },
  {
   "cell_type": "code",
   "execution_count": null,
   "id": "17e644c1-23c5-40d7-af76-55ab85412b70",
   "metadata": {},
   "outputs": [],
   "source": []
  }
 ],
 "metadata": {
  "kernelspec": {
   "display_name": "Python 3 (ipykernel)",
   "language": "python",
   "name": "python3"
  },
  "language_info": {
   "codemirror_mode": {
    "name": "ipython",
    "version": 3
   },
   "file_extension": ".py",
   "mimetype": "text/x-python",
   "name": "python",
   "nbconvert_exporter": "python",
   "pygments_lexer": "ipython3",
   "version": "3.10.8"
  }
 },
 "nbformat": 4,
 "nbformat_minor": 5
}
