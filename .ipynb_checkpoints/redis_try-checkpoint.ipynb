{
 "cells": [
  {
   "cell_type": "code",
   "execution_count": 1,
   "id": "7201c734-eed8-42a4-851e-27bf504a863e",
   "metadata": {},
   "outputs": [],
   "source": [
    "import redis"
   ]
  },
  {
   "cell_type": "code",
   "execution_count": 55,
   "id": "f6f4fad1-20e5-47a3-a0c7-c38797250494",
   "metadata": {},
   "outputs": [],
   "source": [
    "import json"
   ]
  },
  {
   "cell_type": "code",
   "execution_count": 2,
   "id": "27a6128c-1faa-4754-8d94-44457e990fe2",
   "metadata": {},
   "outputs": [],
   "source": [
    "r = redis.Redis(host='10.0.0.5', port=6379, db=0, password=\"1048576\")"
   ]
  },
  {
   "cell_type": "code",
   "execution_count": 4,
   "id": "0c977a60-b048-4d93-bd60-987b0e399a0d",
   "metadata": {},
   "outputs": [
    {
     "data": {
      "text/plain": [
       "b'Genevieve'"
      ]
     },
     "execution_count": 4,
     "metadata": {},
     "output_type": "execute_result"
    }
   ],
   "source": [
    "r.get('jag')"
   ]
  },
  {
   "cell_type": "code",
   "execution_count": 5,
   "id": "41761aad-140b-4960-b785-46fcd77949d0",
   "metadata": {},
   "outputs": [
    {
     "data": {
      "text/plain": [
       "[b'Genevieve', b'hamzeh']"
      ]
     },
     "execution_count": 5,
     "metadata": {},
     "output_type": "execute_result"
    }
   ],
   "source": [
    "r.mget('jag', 'mykey')"
   ]
  },
  {
   "cell_type": "code",
   "execution_count": 7,
   "id": "23921195-42de-4e7d-a560-744273c7c1eb",
   "metadata": {},
   "outputs": [
    {
     "data": {
      "text/plain": [
       "True"
      ]
     },
     "execution_count": 7,
     "metadata": {},
     "output_type": "execute_result"
    }
   ],
   "source": [
    "r.mset({'tv': 1.525, 'mv': 'gb1425'})"
   ]
  },
  {
   "cell_type": "code",
   "execution_count": 8,
   "id": "f958e2f6-ca6b-4bb1-a782-7b480f99fad4",
   "metadata": {},
   "outputs": [
    {
     "data": {
      "text/plain": [
       "[b'Genevieve', b'1.525', b'gb1425']"
      ]
     },
     "execution_count": 8,
     "metadata": {},
     "output_type": "execute_result"
    }
   ],
   "source": [
    "r.mget('jag', 'tv', 'mv')"
   ]
  },
  {
   "cell_type": "code",
   "execution_count": 12,
   "id": "d09bb207-ac3e-4053-bd12-258cfc4c0832",
   "metadata": {},
   "outputs": [
    {
     "data": {
      "text/plain": [
       "4"
      ]
     },
     "execution_count": 12,
     "metadata": {},
     "output_type": "execute_result"
    }
   ],
   "source": [
    "r.lpush('cmap:12712', 'tweji')"
   ]
  },
  {
   "cell_type": "code",
   "execution_count": 14,
   "id": "ffb65dc7-3f01-43bd-bb48-fe28a65819ac",
   "metadata": {},
   "outputs": [
    {
     "data": {
      "text/plain": [
       "b'julie'"
      ]
     },
     "execution_count": 14,
     "metadata": {},
     "output_type": "execute_result"
    }
   ],
   "source": [
    "r.rpop('cmap:12712')"
   ]
  },
  {
   "cell_type": "code",
   "execution_count": 16,
   "id": "5569c51d-1187-417d-bdbc-04e04052bd3e",
   "metadata": {},
   "outputs": [
    {
     "data": {
      "text/plain": [
       "3"
      ]
     },
     "execution_count": 16,
     "metadata": {},
     "output_type": "execute_result"
    }
   ],
   "source": [
    "r.llen('cmap:12712')"
   ]
  },
  {
   "cell_type": "code",
   "execution_count": 21,
   "id": "543b40e2-3ee8-46fa-9ca5-bd11b1a52a39",
   "metadata": {},
   "outputs": [
    {
     "data": {
      "text/plain": [
       "b'tweji'"
      ]
     },
     "execution_count": 21,
     "metadata": {},
     "output_type": "execute_result"
    }
   ],
   "source": [
    "r.lindex('cmap:12712', 0)"
   ]
  },
  {
   "cell_type": "code",
   "execution_count": 31,
   "id": "9e67ae66-aab1-4d34-8934-2d1cbef68d8c",
   "metadata": {},
   "outputs": [
    {
     "data": {
      "text/plain": [
       "[b'tweji', b'julieco', b'julie']"
      ]
     },
     "execution_count": 31,
     "metadata": {},
     "output_type": "execute_result"
    }
   ],
   "source": [
    "r.lrange('cmap:12712', 0, 6)"
   ]
  },
  {
   "cell_type": "code",
   "execution_count": 43,
   "id": "c88467a9-dd3e-493f-83da-e5b000d6e62c",
   "metadata": {},
   "outputs": [
    {
     "data": {
      "text/plain": [
       "6"
      ]
     },
     "execution_count": 43,
     "metadata": {},
     "output_type": "execute_result"
    }
   ],
   "source": [
    "r.lpush('cmap:12712', 'tulsa', 'mari')"
   ]
  },
  {
   "cell_type": "code",
   "execution_count": 47,
   "id": "b81500ac-78f2-4040-ae36-ba41491a7561",
   "metadata": {},
   "outputs": [
    {
     "data": {
      "text/plain": [
       "True"
      ]
     },
     "execution_count": 47,
     "metadata": {},
     "output_type": "execute_result"
    }
   ],
   "source": [
    "r.ltrim('cmap:12712', 0, 4)"
   ]
  },
  {
   "cell_type": "code",
   "execution_count": 48,
   "id": "ae385508-4996-448c-84a1-923f46d72566",
   "metadata": {},
   "outputs": [
    {
     "data": {
      "text/plain": [
       "[b'mari', b'tulsa', b'tabis', b'kasa', b'tweji']"
      ]
     },
     "execution_count": 48,
     "metadata": {},
     "output_type": "execute_result"
    }
   ],
   "source": [
    "r.lrange('cmap:12712', 0, 10)"
   ]
  },
  {
   "cell_type": "code",
   "execution_count": 60,
   "id": "66fa126d-2810-4a45-91b5-982c13e28a3e",
   "metadata": {},
   "outputs": [
    {
     "data": {
      "text/plain": [
       "[b'{\"RecordTime\":\"2023-01-24T11:56:17.995851-05:00\",\"Points\":[{\"SSID\":\"Sinead\",\"BSSID\":\"203a079ef1a0\",\"Channel\":5,\"RSSI\":-31},{\"SSID\":\"Giuliano\",\"BSSID\":\"34a84e3bb042\",\"Channel\":11,\"RSSI\":-56},{\"SSID\":\"Yuli\",\"BSSID\":\"34a84e3bb043\",\"Channel\":6,\"RSSI\":-66},{\"SSID\":\"Sinead\",\"BSSID\":\"34a84e3bb040\",\"Channel\":2,\"RSSI\":-81}]}',\n",
       " b'{\"RecordTime\":\"2023-01-24T11:56:16.3389821-05:00\",\"Points\":[{\"SSID\":\"Sinead\",\"BSSID\":\"203a079ef1a0\",\"Channel\":5,\"RSSI\":-31},{\"SSID\":\"Giuliano\",\"BSSID\":\"34a84e3bb042\",\"Channel\":11,\"RSSI\":-56},{\"SSID\":\"Yuli\",\"BSSID\":\"34a84e3bb043\",\"Channel\":6,\"RSSI\":-66},{\"SSID\":\"Sinead\",\"BSSID\":\"34a84e3bb040\",\"Channel\":2,\"RSSI\":-81}]}',\n",
       " b'{\"RecordTime\":\"2023-01-24T11:56:14.5031344-05:00\",\"Points\":[{\"SSID\":\"Sinead\",\"BSSID\":\"203a079ef1a0\",\"Channel\":5,\"RSSI\":-31},{\"SSID\":\"Giuliano\",\"BSSID\":\"34a84e3bb042\",\"Channel\":11,\"RSSI\":-56},{\"SSID\":\"Yuli\",\"BSSID\":\"34a84e3bb043\",\"Channel\":6,\"RSSI\":-66},{\"SSID\":\"Sinead\",\"BSSID\":\"34a84e3bb040\",\"Channel\":2,\"RSSI\":-81}]}',\n",
       " b'{\"RecordTime\":\"2023-01-24T11:56:01.1723981-05:00\",\"Points\":[{\"SSID\":\"Sinead\",\"BSSID\":\"203a079ef1a0\",\"Channel\":5,\"RSSI\":-31},{\"SSID\":\"Giuliano\",\"BSSID\":\"34a84e3bb042\",\"Channel\":11,\"RSSI\":-56},{\"SSID\":\"Yuli\",\"BSSID\":\"34a84e3bb043\",\"Channel\":6,\"RSSI\":-66},{\"SSID\":\"Sinead\",\"BSSID\":\"34a84e3bb040\",\"Channel\":2,\"RSSI\":-81}]}',\n",
       " b'{\"RecordTime\":\"2023-01-24T11:55:59.0856033-05:00\",\"Points\":[{\"SSID\":\"Sinead\",\"BSSID\":\"203a079ef1a0\",\"Channel\":5,\"RSSI\":-31},{\"SSID\":\"Giuliano\",\"BSSID\":\"34a84e3bb042\",\"Channel\":11,\"RSSI\":-56},{\"SSID\":\"Yuli\",\"BSSID\":\"34a84e3bb043\",\"Channel\":6,\"RSSI\":-66},{\"SSID\":\"Sinead\",\"BSSID\":\"34a84e3bb040\",\"Channel\":2,\"RSSI\":-81}]}',\n",
       " b'{\"RecordTime\":\"2023-01-24T11:55:57.2531617-05:00\",\"Points\":[{\"SSID\":\"Sinead\",\"BSSID\":\"203a079ef1a0\",\"Channel\":5,\"RSSI\":-31},{\"SSID\":\"Giuliano\",\"BSSID\":\"34a84e3bb042\",\"Channel\":11,\"RSSI\":-56},{\"SSID\":\"Yuli\",\"BSSID\":\"34a84e3bb043\",\"Channel\":6,\"RSSI\":-66},{\"SSID\":\"Sinead\",\"BSSID\":\"34a84e3bb040\",\"Channel\":2,\"RSSI\":-81}]}',\n",
       " b'{\"RecordTime\":\"2023-01-24T11:55:52.4154243-05:00\",\"Points\":[{\"SSID\":\"Sinead\",\"BSSID\":\"203a079ef1a0\",\"Channel\":5,\"RSSI\":-31},{\"SSID\":\"Giuliano\",\"BSSID\":\"34a84e3bb042\",\"Channel\":11,\"RSSI\":-56},{\"SSID\":\"Yuli\",\"BSSID\":\"34a84e3bb043\",\"Channel\":6,\"RSSI\":-66},{\"SSID\":\"Sinead\",\"BSSID\":\"34a84e3bb040\",\"Channel\":2,\"RSSI\":-81}]}',\n",
       " b'{\"RecordTime\":\"2023-01-24T11:55:49.7655419-05:00\",\"Points\":[{\"SSID\":\"Sinead\",\"BSSID\":\"203a079ef1a0\",\"Channel\":5,\"RSSI\":-31},{\"SSID\":\"Giuliano\",\"BSSID\":\"34a84e3bb042\",\"Channel\":11,\"RSSI\":-56},{\"SSID\":\"Yuli\",\"BSSID\":\"34a84e3bb043\",\"Channel\":6,\"RSSI\":-66},{\"SSID\":\"Sinead\",\"BSSID\":\"34a84e3bb040\",\"Channel\":2,\"RSSI\":-81}]}',\n",
       " b'{\"RecordTime\":\"2023-01-24T11:55:48.0763103-05:00\",\"Points\":[{\"SSID\":\"Sinead\",\"BSSID\":\"203a079ef1a0\",\"Channel\":5,\"RSSI\":-31},{\"SSID\":\"Giuliano\",\"BSSID\":\"34a84e3bb042\",\"Channel\":11,\"RSSI\":-56},{\"SSID\":\"Yuli\",\"BSSID\":\"34a84e3bb043\",\"Channel\":6,\"RSSI\":-66},{\"SSID\":\"Sinead\",\"BSSID\":\"34a84e3bb040\",\"Channel\":2,\"RSSI\":-81}]}',\n",
       " b'{\"RecordTime\":\"2023-01-24T11:55:46.2553328-05:00\",\"Points\":[{\"SSID\":\"Sinead\",\"BSSID\":\"203a079ef1a0\",\"Channel\":5,\"RSSI\":-31},{\"SSID\":\"Giuliano\",\"BSSID\":\"34a84e3bb042\",\"Channel\":11,\"RSSI\":-56},{\"SSID\":\"Yuli\",\"BSSID\":\"34a84e3bb043\",\"Channel\":6,\"RSSI\":-66},{\"SSID\":\"Sinead\",\"BSSID\":\"34a84e3bb040\",\"Channel\":2,\"RSSI\":-81}]}',\n",
       " b'{\"RecordTime\":\"2023-01-24T11:55:44.6552035-05:00\",\"Points\":[{\"SSID\":\"Sinead\",\"BSSID\":\"203a079ef1a0\",\"Channel\":5,\"RSSI\":-31},{\"SSID\":\"Giuliano\",\"BSSID\":\"34a84e3bb042\",\"Channel\":11,\"RSSI\":-56},{\"SSID\":\"Yuli\",\"BSSID\":\"34a84e3bb043\",\"Channel\":6,\"RSSI\":-66},{\"SSID\":\"Sinead\",\"BSSID\":\"34a84e3bb040\",\"Channel\":2,\"RSSI\":-81}]}']"
      ]
     },
     "execution_count": 60,
     "metadata": {},
     "output_type": "execute_result"
    }
   ],
   "source": [
    "r.lrange('BeaconRecord-SBU-01', 0, 99)"
   ]
  },
  {
   "cell_type": "code",
   "execution_count": 53,
   "id": "e7f0ff9d-a8c6-45cf-8f4a-ef6684c7430e",
   "metadata": {},
   "outputs": [
    {
     "data": {
      "text/plain": [
       "(0, [b'SBU-02', b'SBU-01'])"
      ]
     },
     "execution_count": 53,
     "metadata": {},
     "output_type": "execute_result"
    }
   ],
   "source": [
    "r.sscan('BeaconNames')"
   ]
  },
  {
   "cell_type": "code",
   "execution_count": 57,
   "id": "5fe7fe1e-e994-489a-ba3a-2eb4a32413b4",
   "metadata": {},
   "outputs": [],
   "source": [
    "data = [json.loads(j) for j in r.lrange('BeaconRecord-SBU-02', 0, 6)]"
   ]
  },
  {
   "cell_type": "code",
   "execution_count": 58,
   "id": "66c92a6c-a392-4be7-8b08-d38296c3e523",
   "metadata": {},
   "outputs": [
    {
     "data": {
      "text/plain": [
       "[{'RecordTime': '2023-01-19T11:26:45.3051529-05:00',\n",
       "  'Points': [{'SSID': 'Sinead',\n",
       "    'BSSID': '203a079ef1a0',\n",
       "    'Channel': 5,\n",
       "    'RSSI': -59},\n",
       "   {'SSID': 'Giuliano', 'BSSID': '34a84e3bb042', 'Channel': 11, 'RSSI': -45},\n",
       "   {'SSID': 'Yuli', 'BSSID': '34a84e3bb043', 'Channel': 6, 'RSSI': -89},\n",
       "   {'SSID': 'Sinead', 'BSSID': '34a84e3bb040', 'Channel': 2, 'RSSI': -59},\n",
       "   {'SSID': 'Bob', 'BSSID': '92324b882f8d', 'Channel': 1, 'RSSI': -64}]},\n",
       " {'RecordTime': '2023-01-19T11:26:26.6016176-05:00',\n",
       "  'Points': [{'SSID': 'Sinead',\n",
       "    'BSSID': '203a079ef1a0',\n",
       "    'Channel': 5,\n",
       "    'RSSI': -59},\n",
       "   {'SSID': 'Giuliano', 'BSSID': '34a84e3bb042', 'Channel': 11, 'RSSI': -45},\n",
       "   {'SSID': 'Yuli', 'BSSID': '34a84e3bb043', 'Channel': 6, 'RSSI': -89},\n",
       "   {'SSID': 'Sinead', 'BSSID': '34a84e3bb040', 'Channel': 2, 'RSSI': -59},\n",
       "   {'SSID': 'Bob', 'BSSID': '92324b882f8d', 'Channel': 1, 'RSSI': -64}]}]"
      ]
     },
     "execution_count": 58,
     "metadata": {},
     "output_type": "execute_result"
    }
   ],
   "source": [
    "data"
   ]
  },
  {
   "cell_type": "code",
   "execution_count": null,
   "id": "bbbb8f9b-c0e8-4328-909b-52dc381d1e90",
   "metadata": {},
   "outputs": [],
   "source": []
  }
 ],
 "metadata": {
  "kernelspec": {
   "display_name": "Python 3 (ipykernel)",
   "language": "python",
   "name": "python3"
  },
  "language_info": {
   "codemirror_mode": {
    "name": "ipython",
    "version": 3
   },
   "file_extension": ".py",
   "mimetype": "text/x-python",
   "name": "python",
   "nbconvert_exporter": "python",
   "pygments_lexer": "ipython3",
   "version": "3.10.8"
  }
 },
 "nbformat": 4,
 "nbformat_minor": 5
}
