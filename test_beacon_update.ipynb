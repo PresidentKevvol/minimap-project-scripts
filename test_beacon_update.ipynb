{
 "cells": [
  {
   "cell_type": "code",
   "execution_count": 1,
   "id": "5a8198b4-2be3-4bfe-ac1c-ca6507041698",
   "metadata": {},
   "outputs": [],
   "source": [
    "import requests"
   ]
  },
  {
   "cell_type": "code",
   "execution_count": 9,
   "id": "58254f22-f247-44eb-ab3e-f4efeef60803",
   "metadata": {},
   "outputs": [],
   "source": [
    "accessPoints = [\n",
    "    ('Sinead', '33\\x0b\\xe1', 5, -31),\n",
    "    ('Giuliano', '33\\x0b\\xf0', 11, -56),\n",
    "    ('Yuli', '25\\x18\\xa5', 6, -66),\n",
    "    ('Sinead', 'c0\\x82\\x1c', 2, -81),\n",
    "]"
   ]
  },
  {
   "cell_type": "code",
   "execution_count": 10,
   "id": "19fadc02-5477-4271-a456-10a95716c560",
   "metadata": {},
   "outputs": [],
   "source": [
    "pts_list = []\n",
    "for ap in accessPoints:\n",
    "    pts_list.append({\"SSID\": ap[0], \"BSSID\": ap[1], \"Channel\": ap[2], \"RSSI\": ap[3]})"
   ]
  },
  {
   "cell_type": "code",
   "execution_count": 11,
   "id": "2f4508bc-3bd8-4c0a-8fa1-15fa034ddbd1",
   "metadata": {},
   "outputs": [],
   "source": [
    "payload = {\"SourceName\": 'SBU-01', \"Points\": pts_list}"
   ]
  },
  {
   "cell_type": "code",
   "execution_count": 13,
   "id": "723f68e0-8dee-485a-8e16-728c7e5e720c",
   "metadata": {},
   "outputs": [
    {
     "data": {
      "text/plain": [
       "<Response [200]>"
      ]
     },
     "execution_count": 13,
     "metadata": {},
     "output_type": "execute_result"
    }
   ],
   "source": [
    "requests.post(\"http://\" + \"localhost:8884/p/\", json=payload)"
   ]
  },
  {
   "cell_type": "code",
   "execution_count": null,
   "id": "7b47a94e-8481-44a2-9499-c2c71ff0a3b6",
   "metadata": {},
   "outputs": [],
   "source": []
  }
 ],
 "metadata": {
  "kernelspec": {
   "display_name": "Python 3 (ipykernel)",
   "language": "python",
   "name": "python3"
  },
  "language_info": {
   "codemirror_mode": {
    "name": "ipython",
    "version": 3
   },
   "file_extension": ".py",
   "mimetype": "text/x-python",
   "name": "python",
   "nbconvert_exporter": "python",
   "pygments_lexer": "ipython3",
   "version": "3.10.8"
  }
 },
 "nbformat": 4,
 "nbformat_minor": 5
}
