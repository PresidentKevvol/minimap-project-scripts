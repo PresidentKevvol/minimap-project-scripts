{
 "cells": [
  {
   "cell_type": "code",
   "execution_count": 1,
   "id": "809c20f4-4cdd-4569-9253-fdcf5b537a3e",
   "metadata": {},
   "outputs": [],
   "source": [
    "from process_readings import *"
   ]
  },
  {
   "cell_type": "code",
   "execution_count": 2,
   "id": "723a2c62-fc96-429b-a897-811df4121afc",
   "metadata": {},
   "outputs": [],
   "source": [
    "redis_host = '10.0.0.5'\n",
    "redis_pw = \"1048576\"\n",
    "\n",
    "setup_redis_client(redis_host, redis_pw)"
   ]
  },
  {
   "cell_type": "code",
   "execution_count": 3,
   "id": "7744cade-386f-4c5a-8beb-38a351955554",
   "metadata": {},
   "outputs": [],
   "source": [
    "readings = get_all_beacon_readings()\n",
    "cov, mean, indices = extract_readings_stats(readings)"
   ]
  },
  {
   "cell_type": "code",
   "execution_count": 4,
   "id": "3c3f858e-fa9c-48f3-b0d8-506244b25c17",
   "metadata": {
    "tags": []
   },
   "outputs": [
    {
     "data": {
      "text/plain": [
       "{'SBU-00': array([[0., 0., 0., 0.],\n",
       "        [0., 0., 0., 0.],\n",
       "        [0., 0., 0., 0.],\n",
       "        [0., 0., 0., 0.]]),\n",
       " 'SBU-12': array([[0., 0., 0., 0.],\n",
       "        [0., 0., 0., 0.],\n",
       "        [0., 0., 0., 0.],\n",
       "        [0., 0., 0., 0.]]),\n",
       " 'SBU-11': array([[0., 0., 0., 0.],\n",
       "        [0., 0., 0., 0.],\n",
       "        [0., 0., 0., 0.],\n",
       "        [0., 0., 0., 0.]]),\n",
       " 'SBU-01': array([[0., 0., 0., 0.],\n",
       "        [0., 0., 0., 0.],\n",
       "        [0., 0., 0., 0.],\n",
       "        [0., 0., 0., 0.]]),\n",
       " 'SBU-09': array([[0., 0., 0., 0.],\n",
       "        [0., 0., 0., 0.],\n",
       "        [0., 0., 0., 0.],\n",
       "        [0., 0., 0., 0.]]),\n",
       " 'SBU-04': array([[0., 0., 0., 0.],\n",
       "        [0., 0., 0., 0.],\n",
       "        [0., 0., 0., 0.],\n",
       "        [0., 0., 0., 0.]]),\n",
       " 'SBU-02': array([[0., 0., 0., 0.],\n",
       "        [0., 0., 0., 0.],\n",
       "        [0., 0., 0., 0.],\n",
       "        [0., 0., 0., 0.]]),\n",
       " 'SBU-06': array([[0., 0., 0., 0.],\n",
       "        [0., 0., 0., 0.],\n",
       "        [0., 0., 0., 0.],\n",
       "        [0., 0., 0., 0.]]),\n",
       " 'SBU-05': array([[0., 0., 0., 0.],\n",
       "        [0., 0., 0., 0.],\n",
       "        [0., 0., 0., 0.],\n",
       "        [0., 0., 0., 0.]]),\n",
       " 'SBU-07': array([[0., 0., 0., 0.],\n",
       "        [0., 0., 0., 0.],\n",
       "        [0., 0., 0., 0.],\n",
       "        [0., 0., 0., 0.]]),\n",
       " 'SBU-10': array([[0., 0., 0., 0.],\n",
       "        [0., 0., 0., 0.],\n",
       "        [0., 0., 0., 0.],\n",
       "        [0., 0., 0., 0.]]),\n",
       " 'SBU-14': array([[0., 0., 0., 0.],\n",
       "        [0., 0., 0., 0.],\n",
       "        [0., 0., 0., 0.],\n",
       "        [0., 0., 0., 0.]]),\n",
       " 'SBU-08': array([[0., 0., 0., 0.],\n",
       "        [0., 0., 0., 0.],\n",
       "        [0., 0., 0., 0.],\n",
       "        [0., 0., 0., 0.]]),\n",
       " 'SBU-13': array([[0., 0., 0., 0.],\n",
       "        [0., 0., 0., 0.],\n",
       "        [0., 0., 0., 0.],\n",
       "        [0., 0., 0., 0.]]),\n",
       " 'SBU-03': array([[0., 0., 0., 0.],\n",
       "        [0., 0., 0., 0.],\n",
       "        [0., 0., 0., 0.],\n",
       "        [0., 0., 0., 0.]])}"
      ]
     },
     "execution_count": 4,
     "metadata": {},
     "output_type": "execute_result"
    }
   ],
   "source": [
    "cov"
   ]
  },
  {
   "cell_type": "code",
   "execution_count": 5,
   "id": "80abf990-b38a-454e-a47c-e7a73ae4ee3b",
   "metadata": {
    "tags": []
   },
   "outputs": [
    {
     "data": {
      "text/plain": [
       "{'SBU-00': array([-31., -56., -66., -81.]),\n",
       " 'SBU-12': array([-31., -56., -66., -81.]),\n",
       " 'SBU-11': array([-31., -56., -66., -81.]),\n",
       " 'SBU-01': array([-31., -56., -66., -81.]),\n",
       " 'SBU-09': array([-31., -56., -66., -81.]),\n",
       " 'SBU-04': array([-31., -56., -66., -81.]),\n",
       " 'SBU-02': array([-31., -56., -66., -81.]),\n",
       " 'SBU-06': array([-31., -56., -66., -81.]),\n",
       " 'SBU-05': array([-31., -56., -66., -81.]),\n",
       " 'SBU-07': array([-31., -56., -66., -81.]),\n",
       " 'SBU-10': array([-31., -56., -66., -81.]),\n",
       " 'SBU-14': array([-31., -56., -66., -81.]),\n",
       " 'SBU-08': array([-31., -56., -66., -81.]),\n",
       " 'SBU-13': array([-31., -56., -66., -81.]),\n",
       " 'SBU-03': array([-31., -56., -66., -81.])}"
      ]
     },
     "execution_count": 5,
     "metadata": {},
     "output_type": "execute_result"
    }
   ],
   "source": [
    "mean"
   ]
  },
  {
   "cell_type": "code",
   "execution_count": 6,
   "id": "a2c87bde-4c92-4a24-9c56-0b17d3285b99",
   "metadata": {},
   "outputs": [
    {
     "data": {
      "text/plain": [
       "['203a079ef1a0', '34a84e3bb042', '34a84e3bb043', '34a84e3bb040']"
      ]
     },
     "execution_count": 6,
     "metadata": {},
     "output_type": "execute_result"
    }
   ],
   "source": [
    "indices"
   ]
  },
  {
   "cell_type": "code",
   "execution_count": null,
   "id": "6b416635-b433-4458-a247-0787e385bcff",
   "metadata": {},
   "outputs": [],
   "source": []
  }
 ],
 "metadata": {
  "kernelspec": {
   "display_name": "Python 3 (ipykernel)",
   "language": "python",
   "name": "python3"
  },
  "language_info": {
   "codemirror_mode": {
    "name": "ipython",
    "version": 3
   },
   "file_extension": ".py",
   "mimetype": "text/x-python",
   "name": "python",
   "nbconvert_exporter": "python",
   "pygments_lexer": "ipython3",
   "version": "3.10.8"
  }
 },
 "nbformat": 4,
 "nbformat_minor": 5
}
