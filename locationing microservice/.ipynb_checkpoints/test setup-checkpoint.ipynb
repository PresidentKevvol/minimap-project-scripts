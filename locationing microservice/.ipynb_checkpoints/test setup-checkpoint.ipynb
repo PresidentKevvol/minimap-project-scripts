{
 "cells": [
  {
   "cell_type": "code",
   "execution_count": 2,
   "id": "b60c8301-99e9-47ea-be39-5dbcc5366cfa",
   "metadata": {},
   "outputs": [],
   "source": [
    "import numpy as np\n",
    "import redis\n",
    "import json"
   ]
  },
  {
   "cell_type": "code",
   "execution_count": 3,
   "id": "a5d59d2a-da1a-4ac4-86fa-b9f1a26a1076",
   "metadata": {},
   "outputs": [],
   "source": [
    "redis_host = '10.0.0.5'\n",
    "redis_pw = \"1048576\""
   ]
  },
  {
   "cell_type": "code",
   "execution_count": 4,
   "id": "d315f92f-79a2-40b5-a559-aa5958de3817",
   "metadata": {},
   "outputs": [],
   "source": [
    "r = redis.Redis(host=redis_host, port=6379, db=0, password=redis_pw)"
   ]
  },
  {
   "cell_type": "code",
   "execution_count": 12,
   "id": "69c583c1-81d9-4ff1-ad7b-cee12093aff0",
   "metadata": {},
   "outputs": [],
   "source": [
    "# get all the stored beacon names\n",
    "beacons_names = r.sscan('BeaconNames', count=r.scard('BeaconNames'))[1]"
   ]
  },
  {
   "cell_type": "code",
   "execution_count": 13,
   "id": "d5d76fdf-c203-4f50-ac0e-541ff76824f5",
   "metadata": {},
   "outputs": [
    {
     "data": {
      "text/plain": [
       "15"
      ]
     },
     "execution_count": 13,
     "metadata": {},
     "output_type": "execute_result"
    }
   ],
   "source": [
    "len(beacons_names)"
   ]
  },
  {
   "cell_type": "code",
   "execution_count": 25,
   "id": "4d9f8a6c-99f2-455c-b5cc-cdf7a5c18370",
   "metadata": {},
   "outputs": [],
   "source": [
    "# read/collect all the beacon's readings to this program\n",
    "all_current_readings = {}\n",
    "\n",
    "for name in beacons_names:\n",
    "    all_current_readings[name.decode(\"utf-8\")] = [json.loads(j) for j in r.lrange('BeaconRecord-' + name.decode(\"utf-8\"), 0, 99)]"
   ]
  },
  {
   "cell_type": "code",
   "execution_count": 30,
   "id": "adcd281e-abd6-4ba3-957c-263e542289b4",
   "metadata": {},
   "outputs": [],
   "source": [
    "# extract all BSSID's from all data\n",
    "all_bssids = {}\n",
    "\n",
    "for name in all_current_readings:\n",
    "    beacon_readings = all_current_readings[name]\n",
    "    # for each reading data point\n",
    "    for datapt in beacon_readings:\n",
    "        for ap in datapt['Points']:\n",
    "            if ap['BSSID'] not in all_bssids:\n",
    "                all_bssids[ap['BSSID']] = ap['SSID']"
   ]
  },
  {
   "cell_type": "code",
   "execution_count": 28,
   "id": "a76fbb8b-e9d6-437f-8f28-26001ade12fc",
   "metadata": {},
   "outputs": [
    {
     "data": {
      "text/plain": [
       "{'203a079ef1a0': 'Sinead',\n",
       " '34a84e3bb042': 'Giuliano',\n",
       " '34a84e3bb043': 'Yuli',\n",
       " '34a84e3bb040': 'Sinead'}"
      ]
     },
     "execution_count": 28,
     "metadata": {},
     "output_type": "execute_result"
    }
   ],
   "source": [
    "all_bssids"
   ]
  },
  {
   "cell_type": "code",
   "execution_count": 40,
   "id": "2913bdf1-7a8e-45b5-9f35-111e39dca650",
   "metadata": {},
   "outputs": [],
   "source": [
    "# if a value is missing, fill with this value\n",
    "missing_fill = -101"
   ]
  },
  {
   "cell_type": "code",
   "execution_count": null,
   "id": "d33814cf-5eac-458f-958a-e6b04d519eea",
   "metadata": {},
   "outputs": [],
   "source": [
    "readings_list_len = 11"
   ]
  },
  {
   "cell_type": "code",
   "execution_count": 36,
   "id": "d115f12e-3f8d-4af0-890b-c4983e4ed3d3",
   "metadata": {},
   "outputs": [],
   "source": [
    "# take the keys list and from it establish the ordering of the aps\n",
    "# for use in the matrices and vecotrs\n",
    "matrix_indices = list(all_bssids.keys())"
   ]
  },
  {
   "cell_type": "code",
   "execution_count": 88,
   "id": "7936d4ca-c291-4587-9460-e18b14366371",
   "metadata": {},
   "outputs": [],
   "source": [
    "covariant_matrices = {}\n",
    "mean_vectors = {}\n",
    "\n",
    "# generate the covariant matrices and mean vectors for the mahalanobis distance\n",
    "for name in all_current_readings:\n",
    "    beacon_readings = all_current_readings[name]\n",
    "    # the table to contain the data\n",
    "    data_tableu = np.zeros((len(matrix_indices), len(beacon_readings))) + missing_fill\n",
    "    \n",
    "    for i in range(len(beacon_readings)):\n",
    "        datapt = beacon_readings[i]\n",
    "        for ap in datapt['Points']:\n",
    "            ind = matrix_indices.index(ap['BSSID'])\n",
    "            data_tableu[ind, i] = ap['RSSI']\n",
    "    # remember bias = True in covariance!\n",
    "    # otherwise the function divides by N-1 instead of N\n",
    "    cov = np.cov(data_tableu, bias=True)\n",
    "    # mean vector of the readings\n",
    "    mean = np.mean(data_tableu, axis=1)\n",
    "    covariant_matrices[name] = cov\n",
    "    mean_vectors[name] = mean"
   ]
  },
  {
   "cell_type": "code",
   "execution_count": 89,
   "id": "5304d14d-dd21-4777-b79f-0be2791c63d6",
   "metadata": {},
   "outputs": [
    {
     "data": {
      "text/plain": [
       "{'SBU-00': array([[0., 0., 0., 0.],\n",
       "        [0., 0., 0., 0.],\n",
       "        [0., 0., 0., 0.],\n",
       "        [0., 0., 0., 0.]]),\n",
       " 'SBU-12': array([[0., 0., 0., 0.],\n",
       "        [0., 0., 0., 0.],\n",
       "        [0., 0., 0., 0.],\n",
       "        [0., 0., 0., 0.]]),\n",
       " 'SBU-11': array([[0., 0., 0., 0.],\n",
       "        [0., 0., 0., 0.],\n",
       "        [0., 0., 0., 0.],\n",
       "        [0., 0., 0., 0.]]),\n",
       " 'SBU-01': array([[0., 0., 0., 0.],\n",
       "        [0., 0., 0., 0.],\n",
       "        [0., 0., 0., 0.],\n",
       "        [0., 0., 0., 0.]]),\n",
       " 'SBU-09': array([[0., 0., 0., 0.],\n",
       "        [0., 0., 0., 0.],\n",
       "        [0., 0., 0., 0.],\n",
       "        [0., 0., 0., 0.]]),\n",
       " 'SBU-04': array([[0., 0., 0., 0.],\n",
       "        [0., 0., 0., 0.],\n",
       "        [0., 0., 0., 0.],\n",
       "        [0., 0., 0., 0.]]),\n",
       " 'SBU-02': array([[0., 0., 0., 0.],\n",
       "        [0., 0., 0., 0.],\n",
       "        [0., 0., 0., 0.],\n",
       "        [0., 0., 0., 0.]]),\n",
       " 'SBU-06': array([[0., 0., 0., 0.],\n",
       "        [0., 0., 0., 0.],\n",
       "        [0., 0., 0., 0.],\n",
       "        [0., 0., 0., 0.]]),\n",
       " 'SBU-05': array([[0., 0., 0., 0.],\n",
       "        [0., 0., 0., 0.],\n",
       "        [0., 0., 0., 0.],\n",
       "        [0., 0., 0., 0.]]),\n",
       " 'SBU-07': array([[0., 0., 0., 0.],\n",
       "        [0., 0., 0., 0.],\n",
       "        [0., 0., 0., 0.],\n",
       "        [0., 0., 0., 0.]]),\n",
       " 'SBU-10': array([[0., 0., 0., 0.],\n",
       "        [0., 0., 0., 0.],\n",
       "        [0., 0., 0., 0.],\n",
       "        [0., 0., 0., 0.]]),\n",
       " 'SBU-14': array([[0., 0., 0., 0.],\n",
       "        [0., 0., 0., 0.],\n",
       "        [0., 0., 0., 0.],\n",
       "        [0., 0., 0., 0.]]),\n",
       " 'SBU-08': array([[0., 0., 0., 0.],\n",
       "        [0., 0., 0., 0.],\n",
       "        [0., 0., 0., 0.],\n",
       "        [0., 0., 0., 0.]]),\n",
       " 'SBU-13': array([[0., 0., 0., 0.],\n",
       "        [0., 0., 0., 0.],\n",
       "        [0., 0., 0., 0.],\n",
       "        [0., 0., 0., 0.]]),\n",
       " 'SBU-03': array([[0., 0., 0., 0.],\n",
       "        [0., 0., 0., 0.],\n",
       "        [0., 0., 0., 0.],\n",
       "        [0., 0., 0., 0.]])}"
      ]
     },
     "execution_count": 89,
     "metadata": {},
     "output_type": "execute_result"
    }
   ],
   "source": [
    "covariant_matrices"
   ]
  },
  {
   "cell_type": "code",
   "execution_count": null,
   "id": "0614bf72-e324-4c61-bd0b-84145c210a4e",
   "metadata": {},
   "outputs": [],
   "source": []
  },
  {
   "cell_type": "markdown",
   "id": "f5acec99-b8e9-4a16-88d9-0a5b17fc7ea4",
   "metadata": {
    "jp-MarkdownHeadingCollapsed": true,
    "tags": []
   },
   "source": [
    "### scratchpad"
   ]
  },
  {
   "cell_type": "code",
   "execution_count": 38,
   "id": "9d3cd02c-2260-40f2-9490-14fe315a4e8d",
   "metadata": {},
   "outputs": [
    {
     "data": {
      "text/plain": [
       "[{'SSID': 'Sinead', 'BSSID': '203a079ef1a0', 'Channel': 5, 'RSSI': -31},\n",
       " {'SSID': 'Giuliano', 'BSSID': '34a84e3bb042', 'Channel': 11, 'RSSI': -56},\n",
       " {'SSID': 'Yuli', 'BSSID': '34a84e3bb043', 'Channel': 6, 'RSSI': -66},\n",
       " {'SSID': 'Sinead', 'BSSID': '34a84e3bb040', 'Channel': 2, 'RSSI': -81}]"
      ]
     },
     "execution_count": 38,
     "metadata": {},
     "output_type": "execute_result"
    }
   ],
   "source": [
    "all_current_readings['SBU-09'][2]['Points']"
   ]
  },
  {
   "cell_type": "code",
   "execution_count": 60,
   "id": "22bdd1ac-e291-4bd9-90d1-cc072843f91e",
   "metadata": {},
   "outputs": [
    {
     "data": {
      "text/plain": [
       "array([[1.715, 3.43 ],\n",
       "       [3.43 , 6.86 ]])"
      ]
     },
     "execution_count": 60,
     "metadata": {},
     "output_type": "execute_result"
    }
   ],
   "source": [
    "d = [[1.1, -0.43], [1.5, 0.09], [2.1, 0.55], [2.6, 1.21], [2.85, 1.6], [3.3, 1.9]]\n",
    "e = [[-3.1, 2.4], [-3.1, 2.4], [-3.1, 2.4], [-3.1, 2.4], [-3.1, 2.4], [-3.1, 2.4]]\n",
    "f = [[i*0.7 - 3, i*1.4+0.1] for i in range(6)]\n",
    "\n",
    "d = np.array(d)\n",
    "e = np.array(e)\n",
    "f = np.array(f)\n",
    "\n",
    "np.cov(f.T)"
   ]
  },
  {
   "cell_type": "code",
   "execution_count": 73,
   "id": "26a6feec-cc56-4ca3-9bad-c5272d513c92",
   "metadata": {},
   "outputs": [
    {
     "data": {
      "text/plain": [
       "array([-1.25,  3.6 ])"
      ]
     },
     "execution_count": 73,
     "metadata": {},
     "output_type": "execute_result"
    }
   ],
   "source": [
    "means = np.mean(f.T, axis=1)\n",
    "means"
   ]
  },
  {
   "cell_type": "code",
   "execution_count": 74,
   "id": "c5e8fce6-7780-4308-bbac-ac090fa55cd5",
   "metadata": {},
   "outputs": [
    {
     "data": {
      "text/plain": [
       "array([1.19547759, 2.39095518])"
      ]
     },
     "execution_count": 74,
     "metadata": {},
     "output_type": "execute_result"
    }
   ],
   "source": [
    "stds = np.std(f.T, axis=1)\n",
    "stds"
   ]
  },
  {
   "cell_type": "code",
   "execution_count": 75,
   "id": "9a298518-964b-4176-a89c-04d1f5569ef8",
   "metadata": {},
   "outputs": [
    {
     "data": {
      "text/plain": [
       "2.858333333333333"
      ]
     },
     "execution_count": 75,
     "metadata": {},
     "output_type": "execute_result"
    }
   ],
   "source": [
    "stds[0]*stds[1]"
   ]
  },
  {
   "cell_type": "code",
   "execution_count": 82,
   "id": "38f8dd6e-a6ac-432e-bbbe-771c6faccaf4",
   "metadata": {},
   "outputs": [],
   "source": [
    "N = 9\n",
    "\n",
    "f1 = np.array([i*0.7 - 3 for i in range(N)])\n",
    "f2 = np.array([i*1.4+0.1 for i in range(N)])\n",
    "\n",
    "f = [f1, f2]"
   ]
  },
  {
   "cell_type": "code",
   "execution_count": 83,
   "id": "c473674a-9290-4b6d-b4a8-534783c8d53b",
   "metadata": {},
   "outputs": [],
   "source": [
    "a = np.mean(f1**2) - ( np.mean(f1) )**2\n",
    "b = np.mean(f1*f2) - np.mean(f1) * np.mean(f2)\n",
    "c = np.mean(f2**2) - ( np.mean(f2) )**2"
   ]
  },
  {
   "cell_type": "code",
   "execution_count": 86,
   "id": "81ee7080-604b-4339-a12c-980b4781cef0",
   "metadata": {},
   "outputs": [],
   "source": [
    "mcov = np.array([[a, b], [b, c]])\n",
    "cov = np.cov(f, bias=True)"
   ]
  },
  {
   "cell_type": "code",
   "execution_count": 87,
   "id": "5c2814ad-e507-48a1-81f4-66c3f10cf69e",
   "metadata": {},
   "outputs": [
    {
     "data": {
      "text/plain": [
       "array([[1., 1.],\n",
       "       [1., 1.]])"
      ]
     },
     "execution_count": 87,
     "metadata": {},
     "output_type": "execute_result"
    }
   ],
   "source": [
    "cov / mcov"
   ]
  },
  {
   "cell_type": "code",
   "execution_count": 71,
   "id": "e557e6b2-3f47-4e1a-91b1-2d708799e3b3",
   "metadata": {},
   "outputs": [
    {
     "data": {
      "text/plain": [
       "array([[0.25, 0.  ],\n",
       "       [0.  , 0.25]])"
      ]
     },
     "execution_count": 71,
     "metadata": {},
     "output_type": "execute_result"
    }
   ],
   "source": [
    "g = [[1, 2, 1, 2, 1.5], [1, 1, 2, 2, 1.5]]\n",
    "\n",
    "np.cov(g)"
   ]
  },
  {
   "cell_type": "code",
   "execution_count": null,
   "id": "656cb33e-576b-4bcc-9c23-d245dac6dd72",
   "metadata": {},
   "outputs": [],
   "source": []
  },
  {
   "cell_type": "code",
   "execution_count": null,
   "id": "047b643c-69cd-4965-a6b8-523780075f9a",
   "metadata": {},
   "outputs": [],
   "source": []
  }
 ],
 "metadata": {
  "kernelspec": {
   "display_name": "Python 3 (ipykernel)",
   "language": "python",
   "name": "python3"
  },
  "language_info": {
   "codemirror_mode": {
    "name": "ipython",
    "version": 3
   },
   "file_extension": ".py",
   "mimetype": "text/x-python",
   "name": "python",
   "nbconvert_exporter": "python",
   "pygments_lexer": "ipython3",
   "version": "3.10.8"
  }
 },
 "nbformat": 4,
 "nbformat_minor": 5
}
